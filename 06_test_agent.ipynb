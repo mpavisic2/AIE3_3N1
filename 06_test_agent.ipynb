{
 "cells": [
  {
   "cell_type": "code",
   "execution_count": 1,
   "metadata": {},
   "outputs": [
    {
     "name": "stderr",
     "output_type": "stream",
     "text": [
      "gpt-3.5-turbo\n",
      "gpt-4o\n"
     ]
    },
    {
     "name": "stdout",
     "output_type": "stream",
     "text": [
      "loading from disk\n",
      "0\n",
      "loading from disk\n"
     ]
    }
   ],
   "source": [
    "from utils.nnn_tools import agent2, company_ids,cid_qe_tool, sql_query_engine\n",
    "from llama_index.core import ServiceContext\n",
    "from llama_index.core import Settings"
   ]
  },
  {
   "cell_type": "code",
   "execution_count": 2,
   "metadata": {},
   "outputs": [],
   "source": [
    "from thefuzz import  fuzz"
   ]
  },
  {
   "cell_type": "code",
   "execution_count": 9,
   "metadata": {},
   "outputs": [
    {
     "data": {
      "text/plain": [
       "'gpt-3.5-turbo'"
      ]
     },
     "execution_count": 9,
     "metadata": {},
     "output_type": "execute_result"
    }
   ],
   "source": [
    "Settings.llm.model"
   ]
  },
  {
   "cell_type": "code",
   "execution_count": 3,
   "metadata": {},
   "outputs": [
    {
     "data": {
      "text/plain": [
       "Response(response='Korisnik s OIB-om 79174502895 ima najviše pretplatnika čiji ugovor ističe za manje od 3 mjeseca, ukupno 18 pretplatnika.', source_nodes=[NodeWithScore(node=TextNode(id_='741640cf-83d5-4c2b-ba5e-c6f061193093', embedding=None, metadata={'sql_query': 'SELECT oib, COUNT(subscriber_id) AS broj_pretplatnika\\nFROM mobile_customer_base\\nWHERE Fees_to_charge < 3\\nGROUP BY oib\\nORDER BY broj_pretplatnika DESC\\nLIMIT 1;', 'result': [(79174502895, 18)], 'col_keys': ['oib', 'broj_pretplatnika']}, excluded_embed_metadata_keys=['sql_query', 'result', 'col_keys'], excluded_llm_metadata_keys=['sql_query', 'result', 'col_keys'], relationships={}, text='[(79174502895, 18)]', mimetype='text/plain', start_char_idx=None, end_char_idx=None, text_template='{metadata_str}\\n\\n{content}', metadata_template='{key}: {value}', metadata_seperator='\\n'), score=None)], metadata={'741640cf-83d5-4c2b-ba5e-c6f061193093': {'sql_query': 'SELECT oib, COUNT(subscriber_id) AS broj_pretplatnika\\nFROM mobile_customer_base\\nWHERE Fees_to_charge < 3\\nGROUP BY oib\\nORDER BY broj_pretplatnika DESC\\nLIMIT 1;', 'result': [(79174502895, 18)], 'col_keys': ['oib', 'broj_pretplatnika']}, 'sql_query': 'SELECT oib, COUNT(subscriber_id) AS broj_pretplatnika\\nFROM mobile_customer_base\\nWHERE Fees_to_charge < 3\\nGROUP BY oib\\nORDER BY broj_pretplatnika DESC\\nLIMIT 1;', 'result': [(79174502895, 18)], 'col_keys': ['oib', 'broj_pretplatnika']})"
      ]
     },
     "execution_count": 3,
     "metadata": {},
     "output_type": "execute_result"
    }
   ],
   "source": [
    "sql_query_engine.query(\"koji korisnik ima najviše pretplatnika koji ugovor ističe za manje od 3 mjeseca\")"
   ]
  },
  {
   "cell_type": "code",
   "execution_count": 3,
   "metadata": {},
   "outputs": [],
   "source": [
    "from llama_index.core import PromptTemplate"
   ]
  },
  {
   "cell_type": "code",
   "execution_count": 9,
   "metadata": {},
   "outputs": [
    {
     "data": {
      "text/plain": [
       "PromptTemplate(metadata={'prompt_type': <PromptType.CUSTOM: 'custom'>}, template_vars=['dialect', 'schema', 'query_str'], kwargs={}, output_parser=None, template_var_mappings=None, function_mappings=None, template='\\n            Given an input question, first create a syntactically correct {dialect} query to run, then look at the results of the query and return the answer. You can order the results by a relevant column to return the most interesting examples in the database.\\n\\n            Never query for all the columns from a specific table, only ask for a few relevant columns given the question.\\n\\n            Pay attention to use only the column names that you can see in the schema description. Be careful to not query for columns that do not exist. Pay attention to which column is in which table. Also, qualify column names with the table name when needed. You are required to use the following format, each taking one line:\\n\\n            Question: Question here\\n            SQLQuery: SQL Query to run\\n            SQLResult: Result of the SQLQuery\\n            Answer: Final answer here\\n\\n            Only use tables listed below.\\n            {schema}\\n\\n            examples:\\n            Question: what customer has the most subscribers\\n            SQLQuery: SELECT oib, COUNT(subscriber_id) AS num_subscribers\\nFROM mobile_customer_base\\nGROUP BY oib\\nORDER BY num_subscribers DESC\\nLIMIT 1;\\n            Question: customer with the most subscribers with contract expiry less than 3\\n            SQLQuery: SELECT oib, COUNT(subscriber_id) AS num_subscribers\\nFROM mobile_customer_base\\nWHERE Fees_to_charge < 3\\nGROUP BY oib\\nORDER BY num_subscribers DESC\\nLIMIT 1;\\n\\n            Question: {query_str}\\n            SQLQuery: \\n    ')"
      ]
     },
     "execution_count": 9,
     "metadata": {},
     "output_type": "execute_result"
    }
   ],
   "source": [
    "PromptTemplate(prompt_change)"
   ]
  },
  {
   "cell_type": "code",
   "execution_count": 3,
   "metadata": {},
   "outputs": [
    {
     "data": {
      "text/plain": [
       "{'response_synthesis_prompt': PromptTemplate(metadata={'prompt_type': <PromptType.SQL_RESPONSE_SYNTHESIS_V2: 'sql_response_synthesis_v2'>}, template_vars=['query_str', 'sql_query', 'context_str'], kwargs={}, output_parser=None, template_var_mappings=None, function_mappings=None, template='Given an input question, synthesize a response from the query results.\\nQuery: {query_str}\\nSQL: {sql_query}\\nSQL Response: {context_str}\\nResponse: '),\n",
       " 'sql_retriever:text_to_sql_prompt': '\\n            Given an input question, first create a syntactically correct {dialect} query to run, then look at the results of the query and return the answer. You can order the results by a relevant column to return the most interesting examples in the database.\\n\\n            Never query for all the columns from a specific table, only ask for a few relevant columns given the question.\\n\\n            Pay attention to use only the column names that you can see in the schema description. Be careful to not query for columns that do not exist. Pay attention to which column is in which table. Also, qualify column names with the table name when needed. You are required to use the following format, each taking one line:\\n\\n            Question: Question here\\n            SQLQuery: SQL Query to run\\n            SQLResult: Result of the SQLQuery\\n            Answer: Final answer here\\n\\n            Only use tables listed below.\\n            {schema}\\n\\n            examples:\\n            Question: what customer has the most subscribers\\n            SQLQuery: SELECT oib, COUNT(subscriber_id) AS num_subscribers\\nFROM mobile_customer_base\\nGROUP BY oib\\nORDER BY num_subscribers DESC\\nLIMIT 1;\\n            Question: customer with the most subscribers with contract expiry less than 3\\n            SQLQuery: SELECT oib, COUNT(subscriber_id) AS num_subscribers\\nFROM mobile_customer_base\\nWHERE Fees_to_charge < 3\\nGROUP BY oib\\nORDER BY num_subscribers DESC\\nLIMIT 1;\\n\\n            Question: {query_str}\\n            SQLQuery: \\n    '}"
      ]
     },
     "execution_count": 3,
     "metadata": {},
     "output_type": "execute_result"
    }
   ],
   "source": [
    "sql_query_engine.get_prompts()"
   ]
  },
  {
   "cell_type": "code",
   "execution_count": 14,
   "metadata": {},
   "outputs": [
    {
     "data": {
      "text/plain": [
       "PromptTemplate(metadata={'prompt_type': <PromptType.REFINE: 'refine'>}, template_vars=['query_str', 'existing_answer', 'context_msg'], kwargs={}, output_parser=None, template_var_mappings=None, function_mappings=None, template=\"The original query is as follows: {query_str}\\nWe have provided an existing answer: {existing_answer}\\nWe have the opportunity to refine the existing answer (only if needed) with some more context below.\\n------------\\n{context_msg}\\n------------\\nGiven the new context, refine the original answer to better answer the query. If the context isn't useful, return the original answer.\\nRefined Answer: \")"
      ]
     },
     "execution_count": 14,
     "metadata": {},
     "output_type": "execute_result"
    }
   ],
   "source": [
    "sql_query_engine._refine_synthesis_prompt()"
   ]
  },
  {
   "cell_type": "code",
   "execution_count": 8,
   "metadata": {},
   "outputs": [],
   "source": [
    "prompt_change = \"\"\"\n",
    "            Given an input question, first create a syntactically correct {dialect} query to run, then look at the results of the query and return the answer. You can order the results by a relevant column to return the most interesting examples in the database.\n",
    "\n",
    "            Never query for all the columns from a specific table, only ask for a few relevant columns given the question.\n",
    "\n",
    "            Pay attention to use only the column names that you can see in the schema description. Be careful to not query for columns that do not exist. Pay attention to which column is in which table. Also, qualify column names with the table name when needed. You are required to use the following format, each taking one line:\n",
    "\n",
    "            Question: Question here\n",
    "            SQLQuery: SQL Query to run\n",
    "            SQLResult: Result of the SQLQuery\n",
    "            Answer: Final answer here\n",
    "\n",
    "            Only use tables listed below.\n",
    "            {schema}\n",
    "\n",
    "            examples:\n",
    "            Question: what customer has the most subscribers\n",
    "            SQLQuery: SELECT oib, COUNT(subscriber_id) AS num_subscribers\\nFROM mobile_customer_base\\nGROUP BY oib\\nORDER BY num_subscribers DESC\\nLIMIT 1;\n",
    "            Question: customer with the most subscribers with contract expiry less than 3\n",
    "            SQLQuery: SELECT oib, COUNT(subscriber_id) AS num_subscribers\\nFROM mobile_customer_base\\nWHERE Fees_to_charge < 3\\nGROUP BY oib\\nORDER BY num_subscribers DESC\\nLIMIT 1;\n",
    "\n",
    "            Question: {query_str}\n",
    "            SQLQuery: \n",
    "    \"\"\"\n",
    "\n",
    "#n3p.sql_qe_template[\"query_tool_custom_prompt\"]\n",
    "#sql_query_engine.update_prompts(prompt_change)"
   ]
  },
  {
   "cell_type": "code",
   "execution_count": 10,
   "metadata": {},
   "outputs": [
    {
     "name": "stdout",
     "output_type": "stream",
     "text": [
      "Given an input question, first create a syntactically correct {dialect} query to run, then look at the results of the query and return the answer. You can order the results by a relevant column to return the most interesting examples in the database.\n",
      "\n",
      "Never query for all the columns from a specific table, only ask for a few relevant columns given the question.\n",
      "\n",
      "Pay attention to use only the column names that you can see in the schema description. Be careful to not query for columns that do not exist. Pay attention to which column is in which table. Also, qualify column names with the table name when needed. You are required to use the following format, each taking one line:\n",
      "\n",
      "Question: Question here\n",
      "SQLQuery: SQL Query to run\n",
      "SQLResult: Result of the SQLQuery\n",
      "Answer: Final answer here\n",
      "\n",
      "Only use tables listed below.\n",
      "{schema}\n",
      "\n",
      "Question: {query_str}\n",
      "SQLQuery: \n"
     ]
    }
   ],
   "source": [
    "print(sql_query_engine.get_prompts()['sql_retriever:text_to_sql_prompt'].template)"
   ]
  },
  {
   "cell_type": "code",
   "execution_count": 11,
   "metadata": {},
   "outputs": [
    {
     "name": "stdout",
     "output_type": "stream",
     "text": [
      "Added user message to memory: pojavljuje li se kompaniji u vijestima\n",
      "=== LLM Response ===\n",
      "Da, tvrtka KOFEIN d.o.o. se pojavljuje u vijestima. Evo nekoliko informacija o prisustvu tvrtke u vijestima:\n",
      "\n",
      "1. Kreativna agencija Kofein u manje od godine dana zaposlila je 17 osoba i ostvarila značajan poslovni uspjeh, uspostavljajući kvalitetan kreativni odjel koji dobiva pitcheve i natječaje (netokracija.com).\n",
      "2. KOFEIN d.o.o. je u 2022. ostvario neto rezultat poslovanja od 62.549,00 € i povećao broj zaposlenih na 29 osoba (poslovna.hr).\n",
      "\n",
      "Ove informacije pružaju uvid u aktivnosti i uspjehe tvrtke KOFEIN d.o.o. u poslovanju i kreativnom sektoru.\n"
     ]
    },
    {
     "data": {
      "text/plain": [
       "AgentChatResponse(response='Da, tvrtka KOFEIN d.o.o. se pojavljuje u vijestima. Evo nekoliko informacija o prisustvu tvrtke u vijestima:\\n\\n1. Kreativna agencija Kofein u manje od godine dana zaposlila je 17 osoba i ostvarila značajan poslovni uspjeh, uspostavljajući kvalitetan kreativni odjel koji dobiva pitcheve i natječaje (netokracija.com).\\n2. KOFEIN d.o.o. je u 2022. ostvario neto rezultat poslovanja od 62.549,00 € i povećao broj zaposlenih na 29 osoba (poslovna.hr).\\n\\nOve informacije pružaju uvid u aktivnosti i uspjehe tvrtke KOFEIN d.o.o. u poslovanju i kreativnom sektoru.', sources=[], source_nodes=[], is_dummy_stream=False, metadata=None)"
      ]
     },
     "execution_count": 11,
     "metadata": {},
     "output_type": "execute_result"
    }
   ],
   "source": [
    "agent2.chat(\"pojavljuje li se kompaniji u vijestima\")"
   ]
  },
  {
   "cell_type": "code",
   "execution_count": 62,
   "metadata": {},
   "outputs": [
    {
     "name": "stdout",
     "output_type": "stream",
     "text": [
      "Similarity score: 86\n"
     ]
    }
   ],
   "source": [
    "# Check the similarity score\n",
    "name = \"Matko Pavisicii\"\n",
    "full_name = \"Marko Pavisic\"\n",
    "print(f\"Similarity score: {fuzz.ratio(name, full_name)}\")"
   ]
  },
  {
   "cell_type": "code",
   "execution_count": 3,
   "metadata": {},
   "outputs": [],
   "source": [
    "import pandas as pd"
   ]
  },
  {
   "cell_type": "code",
   "execution_count": 4,
   "metadata": {},
   "outputs": [],
   "source": [
    "subscriber_level_df_final = pd.read_csv(\"data/synthetic_data_cb_w_oib.csv\")"
   ]
  },
  {
   "cell_type": "code",
   "execution_count": 13,
   "metadata": {},
   "outputs": [
    {
     "data": {
      "text/html": [
       "<div>\n",
       "<style scoped>\n",
       "    .dataframe tbody tr th:only-of-type {\n",
       "        vertical-align: middle;\n",
       "    }\n",
       "\n",
       "    .dataframe tbody tr th {\n",
       "        vertical-align: top;\n",
       "    }\n",
       "\n",
       "    .dataframe thead th {\n",
       "        text-align: right;\n",
       "    }\n",
       "</style>\n",
       "<table border=\"1\" class=\"dataframe\">\n",
       "  <thead>\n",
       "    <tr style=\"text-align: right;\">\n",
       "      <th></th>\n",
       "      <th>tariff_model</th>\n",
       "      <th>Voice_usage</th>\n",
       "      <th>Roaming_usage</th>\n",
       "    </tr>\n",
       "  </thead>\n",
       "  <tbody>\n",
       "    <tr>\n",
       "      <th>0</th>\n",
       "      <td>l</td>\n",
       "      <td>3064.500000</td>\n",
       "      <td>241.000000</td>\n",
       "    </tr>\n",
       "    <tr>\n",
       "      <th>1</th>\n",
       "      <td>m</td>\n",
       "      <td>2133.400000</td>\n",
       "      <td>221.500000</td>\n",
       "    </tr>\n",
       "    <tr>\n",
       "      <th>2</th>\n",
       "      <td>s</td>\n",
       "      <td>3515.333333</td>\n",
       "      <td>193.666667</td>\n",
       "    </tr>\n",
       "    <tr>\n",
       "      <th>3</th>\n",
       "      <td>xl</td>\n",
       "      <td>2838.600000</td>\n",
       "      <td>254.200000</td>\n",
       "    </tr>\n",
       "  </tbody>\n",
       "</table>\n",
       "</div>"
      ],
      "text/plain": [
       "  tariff_model  Voice_usage  Roaming_usage\n",
       "0            l  3064.500000     241.000000\n",
       "1            m  2133.400000     221.500000\n",
       "2            s  3515.333333     193.666667\n",
       "3           xl  2838.600000     254.200000"
      ]
     },
     "execution_count": 13,
     "metadata": {},
     "output_type": "execute_result"
    }
   ],
   "source": [
    "subscriber_level_df_final.query(\"oib==60770198608\").groupby([\"tariff_model\"])[[\"Voice_usage\",\"Roaming_usage\"]].mean().reset_index()"
   ]
  },
  {
   "cell_type": "code",
   "execution_count": 66,
   "metadata": {},
   "outputs": [],
   "source": [
    "input2 =\"PRVO\"\n",
    "\n",
    "ratio_score = lambda name,full_name : fuzz.ratio(name, full_name)\n",
    "\n",
    "name2oib = [{\"oib\": i[0], \"naziv\": i[1], \"score\":ratio_score(input2,i[1])} for i in zip(company_ids[\"OIB\"],company_ids[\"NAZIV\"]) if input2.lower() in i[1].lower() ]"
   ]
  },
  {
   "cell_type": "code",
   "execution_count": 67,
   "metadata": {},
   "outputs": [
    {
     "data": {
      "text/plain": [
       "[]"
      ]
     },
     "execution_count": 67,
     "metadata": {},
     "output_type": "execute_result"
    }
   ],
   "source": [
    "name2oib"
   ]
  },
  {
   "cell_type": "code",
   "execution_count": 21,
   "metadata": {},
   "outputs": [
    {
     "data": {
      "text/plain": [
       "ToolOutput(content=\"{\\n  'oib': '98686076589',\\n  'naziv': 'EUVITIS'\\n}\", tool_name='company_name_and_id_finder', raw_input={'input': 'HEP'}, raw_output=Response(response=\"{\\n  'oib': '98686076589',\\n  'naziv': 'EUVITIS'\\n}\", source_nodes=[NodeWithScore(node=TextNode(id_='2daaf688-ccdd-42b4-94bd-bd66b42b893b', embedding=None, metadata={}, excluded_embed_metadata_keys=[], excluded_llm_metadata_keys=[], relationships={<NodeRelationship.SOURCE: '1'>: RelatedNodeInfo(node_id='3d7040ac-7bb8-406f-a1da-3279e7613de2', node_type=<ObjectType.DOCUMENT: '4'>, metadata={}, hash='727472967328cc7534d7f750bca1116ac8fabb94e00f156eddd116f51f8870ef')}, text='oib (vat_id): 98686076589, naziv: EUVITIS, obrt za stručne, znanstvene i obrazovne usluge, vl. Edi Maletić, Zagreb, Jablanska 70', mimetype='text/plain', start_char_idx=0, end_char_idx=128, text_template='{metadata_str}\\n\\n{content}', metadata_template='{key}: {value}', metadata_seperator='\\n'), score=0.7663371855099151), NodeWithScore(node=TextNode(id_='21ca5eb3-d4d4-4320-9de3-c4dbcf8dc415', embedding=None, metadata={}, excluded_embed_metadata_keys=[], excluded_llm_metadata_keys=[], relationships={<NodeRelationship.SOURCE: '1'>: RelatedNodeInfo(node_id='6994c690-32df-42b3-ac9b-1da357c74604', node_type=<ObjectType.DOCUMENT: '4'>, metadata={}, hash='b605a3c9003f98c92243039fc4771373def4ccded8c3a60e989f65fb798e11ad')}, text='oib (vat_id): 73251209482, naziv: HOKI POKI, obrt za zabavne djelatnosti, vl. Irena Torbarina, Sukošan, 7. Domobranske pukovnije HV 101 D', mimetype='text/plain', start_char_idx=0, end_char_idx=137, text_template='{metadata_str}\\n\\n{content}', metadata_template='{key}: {value}', metadata_seperator='\\n'), score=0.7630792472874455)], metadata={'2daaf688-ccdd-42b4-94bd-bd66b42b893b': {}, '21ca5eb3-d4d4-4320-9de3-c4dbcf8dc415': {}}), is_error=False)"
      ]
     },
     "execution_count": 21,
     "metadata": {},
     "output_type": "execute_result"
    }
   ],
   "source": [
    "cid_qe_tool.call(\"HEP\")"
   ]
  },
  {
   "cell_type": "code",
   "execution_count": null,
   "metadata": {},
   "outputs": [],
   "source": [
    "def oib2name_func(name:str):\n",
    "    \"\"\"\n",
    "    input is string\n",
    "    Finds company name based on name input.\n",
    "    Use this tool when user inputs oib and you need company name\n",
    "    output is dictionary with oib and name of the company\n",
    "    \"\"\"\n",
    "    oib2name_ = oib2name\n",
    "\n",
    "    return str(oib2name_[oib])\n",
    "\n",
    "\n",
    "tool_oib2name = FunctionTool.from_defaults(oib2name_func, \n",
    "name=\"oib2name\",\n",
    "description= \"\"\"\n",
    "    Finds company name based on oib input.\n",
    "    Use this tool when user inputs oib and you need company name\n",
    "    output is dictionary with oib and name of the company\n",
    "    \"\"\",\n",
    "return_direct=True)\n"
   ]
  },
  {
   "cell_type": "code",
   "execution_count": 2,
   "metadata": {},
   "outputs": [],
   "source": [
    "import pandas as pd"
   ]
  },
  {
   "cell_type": "code",
   "execution_count": 3,
   "metadata": {},
   "outputs": [],
   "source": [
    "subscriber_level_df_final = pd.read_csv(\"data/synthetic_data_cb_w_oib.csv\")\n",
    "\n",
    "from llama_index.llms.openai import OpenAI\n",
    "\n",
    "llm = OpenAI(model=\"gpt4o\")\n",
    "\n",
    "from sqlalchemy import create_engine\n",
    "engine = create_engine(\"sqlite+pysqlite:///:memory:\")\n",
    "subscriber_level_df_final.to_sql(\n",
    "  \"mobile_customer_base\",\n",
    "  engine\n",
    ")\n",
    "\n",
    "tables = [\"mobile_customer_base\"]\n",
    "\n",
    "from llama_index.core import SQLDatabase\n",
    "\n",
    "sql_database = SQLDatabase(\n",
    "    engine=engine,\n",
    "    include_tables=tables,\n",
    "    \n",
    "    \n",
    ")\n",
    "\n",
    "from llama_index.core.indices.struct_store.sql_query import NLSQLTableQueryEngine\n",
    "\n",
    "examples = [\n",
    "        {\"input\":\"what customer has the most subscribers\",\"sql_query\":\"SELECT oib, COUNT(subscriber_id) AS num_subscribers\\nFROM mobile_customer_base\\nGROUP BY oib\\nORDER BY num_subscribers DESC\\nLIMIT 1;\"},\n",
    "        {\"input\":\"customer with the most subscribers with contract expiry less than 3\",\n",
    "        \"sql_query\":\"SELECT oib, COUNT(subscriber_id) AS num_subscribers\\nFROM mobile_customer_base\\nWHERE Fees_to_charge < 3\\nGROUP BY oib\\nORDER BY num_subscribers DESC\\nLIMIT 1;\"},\n",
    "    ]\n",
    "\n",
    "sql_query_engine = NLSQLTableQueryEngine(\n",
    "    sql_database=sql_database,\n",
    "    tables=tables,\n",
    "    examples=examples,\n",
    "\n",
    "    \n",
    "    \n",
    ")\n",
    "\n",
    "\n",
    "DESCRIPTION = \"\"\"\\\n",
    "This tool should be used to answer question related to the mobile by translating a natural language query into a SQL query with access to tables:\n",
    "first try to use queires provided in examples\n",
    "'mobile_customer_base' - primary filter column is oib, id_columns are - oib, customer_id, subscriber_id, ARPA_2024 is arpa column, fees_to_charge is contract expiry column\n",
    "\n",
    "\n",
    "\"\"\"\n",
    "\n",
    "\n",
    "from llama_index.core.tools.query_engine import QueryEngineTool\n",
    "\n",
    "sql_tool = QueryEngineTool.from_defaults(\n",
    "    query_engine=sql_query_engine,\n",
    "    name=\"sql-query\",\n",
    "    description=DESCRIPTION,\n",
    "\n",
    "    \n",
    ")\n"
   ]
  },
  {
   "cell_type": "code",
   "execution_count": 142,
   "metadata": {},
   "outputs": [
    {
     "name": "stdout",
     "output_type": "stream",
     "text": [
      "Given an input question, first create a syntactically correct {dialect} query to run, then look at the results of the query and return the answer. You can order the results by a relevant column to return the most interesting examples in the database.\n",
      "\n",
      "Never query for all the columns from a specific table, only ask for a few relevant columns given the question.\n",
      "\n",
      "Pay attention to use only the column names that you can see in the schema description. Be careful to not query for columns that do not exist. Pay attention to which column is in which table. Also, qualify column names with the table name when needed. You are required to use the following format, each taking one line:\n",
      "\n",
      "Question: Question here\n",
      "SQLQuery: SQL Query to run\n",
      "SQLResult: Result of the SQLQuery\n",
      "Answer: Final answer here\n",
      "\n",
      "Only use tables listed below.\n",
      "{schema}\n",
      "\n",
      "Question: {query_str}\n",
      "SQLQuery: \n"
     ]
    }
   ],
   "source": [
    "print(sql_query_engine.get_prompts()['sql_retriever:text_to_sql_prompt'].template)"
   ]
  },
  {
   "cell_type": "code",
   "execution_count": 4,
   "metadata": {},
   "outputs": [],
   "source": [
    "prompt_change = \"\"\"\n",
    "Given an input question, first create a syntactically correct {dialect} query to run, then look at the results of the query and return the answer. You can order the results by a relevant column to return the most interesting examples in the database.\n",
    "\n",
    "Never query for all the columns from a specific table, only ask for a few relevant columns given the question.\n",
    "\n",
    "Pay attention to use only the column names that you can see in the schema description. Be careful to not query for columns that do not exist. Pay attention to which column is in which table. Also, qualify column names with the table name when needed. You are required to use the following format, each taking one line:\n",
    "\n",
    "Question: Question here\n",
    "SQLQuery: SQL Query to run\n",
    "SQLResult: Result of the SQLQuery\n",
    "Answer: Final answer here\n",
    "\n",
    "Only use tables listed below.\n",
    "{schema}\n",
    "\n",
    "examples:\n",
    "Question: what customer has the most subscribers\n",
    "SQLQuery: SELECT oib, COUNT(subscriber_id) AS num_subscribers\\nFROM mobile_customer_base\\nGROUP BY oib\\nORDER BY num_subscribers DESC\\nLIMIT 1;\n",
    "Question: customer with the most subscribers with contract expiry less than 3\n",
    "SQLQuery: SELECT oib, COUNT(subscriber_id) AS num_subscribers\\nFROM mobile_customer_base\\nWHERE Fees_to_charge < 3\\nGROUP BY oib\\nORDER BY num_subscribers DESC\\nLIMIT 1;\n",
    "\n",
    "Question: {query_str}\n",
    "SQLQuery: \n",
    "\"\"\"\n",
    "sql_query_engine.get_prompts()['sql_retriever:text_to_sql_prompt'].template=prompt_change"
   ]
  },
  {
   "cell_type": "code",
   "execution_count": 21,
   "metadata": {},
   "outputs": [
    {
     "data": {
      "text/html": [
       "<div>\n",
       "<style scoped>\n",
       "    .dataframe tbody tr th:only-of-type {\n",
       "        vertical-align: middle;\n",
       "    }\n",
       "\n",
       "    .dataframe tbody tr th {\n",
       "        vertical-align: top;\n",
       "    }\n",
       "\n",
       "    .dataframe thead th {\n",
       "        text-align: right;\n",
       "    }\n",
       "</style>\n",
       "<table border=\"1\" class=\"dataframe\">\n",
       "  <thead>\n",
       "    <tr style=\"text-align: right;\">\n",
       "      <th></th>\n",
       "      <th>oib</th>\n",
       "      <th>customer_id</th>\n",
       "    </tr>\n",
       "  </thead>\n",
       "  <tbody>\n",
       "    <tr>\n",
       "      <th>216</th>\n",
       "      <td>63914995885</td>\n",
       "      <td>1</td>\n",
       "    </tr>\n",
       "    <tr>\n",
       "      <th>148</th>\n",
       "      <td>43420386536</td>\n",
       "      <td>1</td>\n",
       "    </tr>\n",
       "    <tr>\n",
       "      <th>293</th>\n",
       "      <td>87096588160</td>\n",
       "      <td>1</td>\n",
       "    </tr>\n",
       "    <tr>\n",
       "      <th>163</th>\n",
       "      <td>49129895772</td>\n",
       "      <td>1</td>\n",
       "    </tr>\n",
       "    <tr>\n",
       "      <th>239</th>\n",
       "      <td>71685046796</td>\n",
       "      <td>1</td>\n",
       "    </tr>\n",
       "    <tr>\n",
       "      <th>...</th>\n",
       "      <td>...</td>\n",
       "      <td>...</td>\n",
       "    </tr>\n",
       "    <tr>\n",
       "      <th>172</th>\n",
       "      <td>50538528899</td>\n",
       "      <td>28</td>\n",
       "    </tr>\n",
       "    <tr>\n",
       "      <th>39</th>\n",
       "      <td>9661526637</td>\n",
       "      <td>30</td>\n",
       "    </tr>\n",
       "    <tr>\n",
       "      <th>149</th>\n",
       "      <td>43496259355</td>\n",
       "      <td>32</td>\n",
       "    </tr>\n",
       "    <tr>\n",
       "      <th>306</th>\n",
       "      <td>91467117650</td>\n",
       "      <td>32</td>\n",
       "    </tr>\n",
       "    <tr>\n",
       "      <th>268</th>\n",
       "      <td>79174502895</td>\n",
       "      <td>33</td>\n",
       "    </tr>\n",
       "  </tbody>\n",
       "</table>\n",
       "<p>340 rows × 2 columns</p>\n",
       "</div>"
      ],
      "text/plain": [
       "             oib  customer_id\n",
       "216  63914995885            1\n",
       "148  43420386536            1\n",
       "293  87096588160            1\n",
       "163  49129895772            1\n",
       "239  71685046796            1\n",
       "..           ...          ...\n",
       "172  50538528899           28\n",
       "39    9661526637           30\n",
       "149  43496259355           32\n",
       "306  91467117650           32\n",
       "268  79174502895           33\n",
       "\n",
       "[340 rows x 2 columns]"
      ]
     },
     "execution_count": 21,
     "metadata": {},
     "output_type": "execute_result"
    }
   ],
   "source": [
    "subscriber_level_df_final.query(\"Fees_to_charge<6\").groupby([\"oib\"])[\"customer_id\"].count().reset_index().sort_values(\"customer_id\")"
   ]
  },
  {
   "cell_type": "code",
   "execution_count": 141,
   "metadata": {},
   "outputs": [],
   "source": [
    "sql_query_engine.update_prompts(examples)"
   ]
  },
  {
   "cell_type": "code",
   "execution_count": 6,
   "metadata": {},
   "outputs": [
    {
     "data": {
      "text/plain": [
       "'The OIB with the most subscribers who have less than 12 months till contract expiration is 43496259355, with a total of 42 subscribers.'"
      ]
     },
     "execution_count": 6,
     "metadata": {},
     "output_type": "execute_result"
    }
   ],
   "source": [
    "sql_query_engine.query(\"what oib has the most subscribers with months till contract expiration less than 12\").response"
   ]
  },
  {
   "cell_type": "code",
   "execution_count": null,
   "metadata": {},
   "outputs": [],
   "source": [
    "sql_query_engine.query(\"what oib has the most subscribers with months till contract expiration less than 12\").response"
   ]
  },
  {
   "cell_type": "code",
   "execution_count": 127,
   "metadata": {},
   "outputs": [
    {
     "data": {
      "text/plain": [
       "ToolOutput(content='The SQL query provided is invalid. Please check the syntax and try again.', tool_name='sql-query', raw_input={'input': 'SELECT customer_id, COUNT(subscriber_id) AS num_subscribers\\\\nFROM mobile_customer_base\\\\nWHERE Duration_type < 3\\\\nGROUP BY customer_id\\\\nORDER BY num_subscribers DESC\\\\nLIMIT 1;'}, raw_output=Response(response='The SQL query provided is invalid. Please check the syntax and try again.', source_nodes=[NodeWithScore(node=TextNode(id_='ba0e3636-af6f-4f5d-8409-fa6e41860207', embedding=None, metadata={}, excluded_embed_metadata_keys=[], excluded_llm_metadata_keys=[], relationships={}, text=\"Error: Statement 'SELECT customer_id, COUNT(subscriber_id) AS num_subscribers\\\\nFROM mobile_customer_base\\\\nWHERE Duration_Type < 3\\\\nGROUP BY customer_id\\\\nORDER BY num_subscribers DESC\\\\nLIMIT 1;' is invalid SQL.\", mimetype='text/plain', start_char_idx=None, end_char_idx=None, text_template='{metadata_str}\\n\\n{content}', metadata_template='{key}: {value}', metadata_seperator='\\n'), score=None)], metadata={'ba0e3636-af6f-4f5d-8409-fa6e41860207': {}, 'sql_query': 'SELECT customer_id, COUNT(subscriber_id) AS num_subscribers\\nFROM mobile_customer_base\\nWHERE Duration_Type < 3\\nGROUP BY customer_id\\nORDER BY num_subscribers DESC\\nLIMIT 1;'}), is_error=False)"
      ]
     },
     "execution_count": 127,
     "metadata": {},
     "output_type": "execute_result"
    }
   ],
   "source": [
    "sql_tool.call(\"SELECT customer_id, COUNT(subscriber_id) AS num_subscribers\\\\nFROM mobile_customer_base\\\\nWHERE Duration_type < 3\\\\nGROUP BY customer_id\\\\nORDER BY num_subscribers DESC\\\\nLIMIT 1;\")"
   ]
  },
  {
   "cell_type": "code",
   "execution_count": 116,
   "metadata": {},
   "outputs": [],
   "source": [
    "from llama_index.core.indices.struct_store.sql_query import NLSQLTableQueryEngine, SQLDatabase\n",
    "from llama_index.core.prompts import Prompt, PromptType\n",
    "\n",
    "examples = [\n",
    "        {\"input\":\"what customer has the most subscribers\",\"sql_query\":\"SELECT oib, COUNT(subscriber_id) AS num_subscribers\\nFROM mobile_customer_base\\nGROUP BY oib\\nORDER BY num_subscribers DESC\\nLIMIT 1;\"},\n",
    "        {\"input\":\"customer with the most subscribers with contract expiry less than 3\",\n",
    "        \"sql_query\":\"SELECT oib, COUNT(subscriber_id) AS num_subscribers\\nFROM mobile_customer_base\\nWHERE Fees_to_charge < 3\\nGROUP BY oib\\nORDER BY num_subscribers DESC\\nLIMIT 1;\"},\n",
    "    ]\n",
    "\n",
    "class ExampleDrivenNLSQLTableQueryEngine(NLSQLTableQueryEngine):\n",
    "    def __init__(self, sql_database: SQLDatabase, examples: list, **kwargs):\n",
    "        super().__init__(sql_database, **kwargs)\n",
    "        self.examples = examples\n",
    "\n",
    "    def _generate_sql_query(self, query: str) -> str:\n",
    "        prompt_text = \"Here are some examples of natural language queries and their corresponding SQL queries:\\n\\n\"\n",
    "        for example in self.examples:\n",
    "            prompt_text += f\"Q: {example['input']}\\nA: {example['output']}\\n\\n\"\n",
    "        prompt_text += f\"Now, generate a SQL query for the following question:\\nQ: {query}\\nA:\"\n",
    "\n",
    "        prompt = Prompt(\n",
    "            template=prompt_text,\n",
    "            prompt_type=PromptType.TEXT_TO_SQL\n",
    "        )\n",
    "        \n",
    "        response = self._llm.generate(prompt)\n",
    "        return response\n",
    "# Initialize the custom query engine\n",
    "query_engine = ExampleDrivenNLSQLTableQueryEngine(sql_database=sql_database, examples=examples)\n"
   ]
  },
  {
   "cell_type": "code",
   "execution_count": 123,
   "metadata": {},
   "outputs": [
    {
     "data": {
      "text/plain": [
       "Response(response=\"I'm sorry, but there seems to be an error in the SQL query provided. Please double-check the syntax and try again.\", source_nodes=[NodeWithScore(node=TextNode(id_='e2c5179c-589f-44e5-a56b-771eddf409cf', embedding=None, metadata={}, excluded_embed_metadata_keys=[], excluded_llm_metadata_keys=[], relationships={}, text=\"Error: Statement 'SELECT customer_id, COUNT(subscriber_id) AS num_subscribers\\\\nFROM mobile_customer_base\\\\nWHERE Duration_Type < 3\\\\nGROUP BY customer_id\\\\nORDER BY num_subscribers DESC\\\\nLIMIT 1;' is invalid SQL.\", mimetype='text/plain', start_char_idx=None, end_char_idx=None, text_template='{metadata_str}\\n\\n{content}', metadata_template='{key}: {value}', metadata_seperator='\\n'), score=None)], metadata={'e2c5179c-589f-44e5-a56b-771eddf409cf': {}, 'sql_query': 'SELECT customer_id, COUNT(subscriber_id) AS num_subscribers\\nFROM mobile_customer_base\\nWHERE Duration_Type < 3\\nGROUP BY customer_id\\nORDER BY num_subscribers DESC\\nLIMIT 1;'})"
      ]
     },
     "execution_count": 123,
     "metadata": {},
     "output_type": "execute_result"
    }
   ],
   "source": [
    "query_engine.query(\"\"\"customer with the most subscribers with contract expiration less than 3\n",
    "Examples:\n",
    "{examples}\n",
    "\n",
    "\"\"\")"
   ]
  }
 ],
 "metadata": {
  "kernelspec": {
   "display_name": "Python 3.9.19 ('fw_24')",
   "language": "python",
   "name": "python3"
  },
  "language_info": {
   "codemirror_mode": {
    "name": "ipython",
    "version": 3
   },
   "file_extension": ".py",
   "mimetype": "text/x-python",
   "name": "python",
   "nbconvert_exporter": "python",
   "pygments_lexer": "ipython3",
   "version": "3.9.19"
  },
  "orig_nbformat": 4,
  "vscode": {
   "interpreter": {
    "hash": "002b85b5079f3da3aae4414b1231371c80fc57d2bd742047e69786b7d50bd7d6"
   }
  }
 },
 "nbformat": 4,
 "nbformat_minor": 2
}
