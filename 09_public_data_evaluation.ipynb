{
 "cells": [
  {
   "cell_type": "code",
   "execution_count": 5,
   "metadata": {},
   "outputs": [],
   "source": [
    "from llama_index.core import SimpleDirectoryReader, VectorStoreIndex\n",
    "from llama_index.core.llama_dataset.generator import RagDatasetGenerator\n",
    "from llama_index.llms.openai import OpenAI\n",
    "from llama_index.core.evaluation import (\n",
    "    BatchEvalRunner,\n",
    "    CorrectnessEvaluator,\n",
    "    FaithfulnessEvaluator,\n",
    "    RelevancyEvaluator\n",
    ")\n",
    "from llama_index.core import VectorStoreIndex, StorageContext,load_index_from_storage"
   ]
  },
  {
   "cell_type": "markdown",
   "metadata": {},
   "source": [
    "# Evaluation Metrics for Language Models\n",
    "\n",
    "When evaluating the performance of language models, several key metrics are used to assess different aspects of the generated responses. Below are explanations of three crucial metrics: correctness, faithfulness, and relevancy, along with illustrative formulas.\n",
    "\n",
    "## Correctness\n",
    "\n",
    "**Correctness** measures the accuracy of the information provided in the model's response. It evaluates whether the response is factually accurate and free from errors.\n",
    "\n",
    "### Formula\n",
    "\n",
    "The correctness of a response can be quantified using a simple accuracy formula:\n",
    "\n",
    "\\[ \\text{Correctness} = \\frac{\\text{Number of Correct Facts}}{\\text{Total Number of Facts in Response}} \\]\n",
    "\n",
    "### Example\n",
    "\n",
    "- **Question:** \"What is the capital of France?\"\n",
    "- **Correct Response:** \"The capital of France is Paris.\"\n",
    "\n",
    "If the response contains 3 facts, and 2 of them are correct, the correctness score would be:\n",
    "\n",
    "\\[ \\text{Correctness} = \\frac{2}{3} = 0.67 \\]\n",
    "\n",
    "### Importance\n",
    "\n",
    "Ensuring that the model provides accurate information is essential, especially in applications where reliability and precision are critical, such as in educational tools or medical advice systems.\n",
    "\n",
    "## Faithfulness\n",
    "\n",
    "**Faithfulness** assesses whether the model's response stays true to the given input, without introducing any hallucinations or fabrications.\n",
    "\n",
    "### Formula\n",
    "\n",
    "Faithfulness can be assessed by comparing the overlap between the facts in the input and the response:\n",
    "\n",
    "\\[ \\text{Faithfulness} = \\frac{\\text{Number of Consistent Facts with Input}}{\\text{Total Number of Facts in Response}} \\]\n",
    "\n",
    "### Example\n",
    "\n",
    "- **Input:** \"The Eiffel Tower is located in Paris.\"\n",
    "- **Faithful Response:** \"The Eiffel Tower, which is in Paris, is a famous landmark.\"\n",
    "\n",
    "If the response contains 3 facts and all 3 are consistent with the input, the faithfulness score would be:\n",
    "\n",
    "\\[ \\text{Faithfulness} = \\frac{3}{3} = 1.0 \\]\n",
    "\n",
    "### Importance\n",
    "\n",
    "Faithfulness is crucial in maintaining trust in the model's outputs, ensuring that responses are based on the provided input and not on made-up information.\n",
    "\n",
    "## Relevancy\n",
    "\n",
    "**Relevancy** measures how pertinent\\relevant the model's response is to the user's query. It evaluates whether the response directly addresses the question or topic posed by the user.\n",
    "\n",
    "### Formula\n",
    "\n",
    "Relevancy can be quantified using the cosine similarity between the query and response embeddings:\n",
    "\n",
    "\\[ \\text{Relevancy} = \\cos(\\theta) = \\frac{\\vec{Q} \\cdot \\vec{R}}{\\|\\vec{Q}\\| \\|\\vec{R}\\|} \\]\n",
    "\n",
    "where:\n",
    "- \\(\\vec{Q}\\) is the vector representation of the query.\n",
    "- \\(\\vec{R}\\) is the vector representation of the response.\n",
    "\n",
    "### Example\n",
    "\n",
    "- **Query:** \"What are the health benefits of apples?\"\n",
    "- **Relevant Response:** \"Apples are nutritious and may help reduce the risk of several diseases.\"\n",
    "\n",
    "If the cosine similarity between the query and response vectors is 0.85, the relevancy score would be:\n",
    "\n",
    "\\[ \\text{Relevancy} = 0.85 \\]\n",
    "\n",
    "### Importance\n",
    "\n",
    "Relevancy ensures that the model's responses are useful and focused on the user's needs, improving the overall user experience and satisfaction.\n",
    "\n",
    "## Conclusion\n",
    "\n",
    "Correctness, faithfulness, and relevancy are critical metrics for evaluating the performance of language models. Together, they ensure that the model provides accurate, trustworthy, and useful responses, enhancing the overall effectiveness and reliability of the system.\n",
    "\n",
    "By understanding and applying these metrics, developers and researchers can better assess and improve their language models, leading to more robust and user-friendly applications.\n",
    "\n",
    "For further reading and detailed methodologies, refer to [LlamaIndex Documentation](https://docs.llamaindex.ai).\n",
    "\n"
   ]
  },
  {
   "cell_type": "code",
   "execution_count": 47,
   "metadata": {},
   "outputs": [],
   "source": [
    "# ref\n",
    "# https://github.com/rokbenko/ai-playground/blob/main/llamaindex-tutorials/3-Eval_travel_recommendation_RAG/travel_recommendation_rag_eval.py"
   ]
  },
  {
   "cell_type": "code",
   "execution_count": 43,
   "metadata": {},
   "outputs": [],
   "source": [
    "import asyncio\n",
    "import nest_asyncio\n",
    "\n",
    "nest_asyncio.apply()"
   ]
  },
  {
   "cell_type": "code",
   "execution_count": 69,
   "metadata": {},
   "outputs": [],
   "source": [
    "# Define the directory where the storage context is persisted\n",
    "persist_dir = \"./storage/cache_2/company_abstract/\"  # replace with your actual directory\n",
    "\n",
    "# Load the storage context\n",
    "storage_context = StorageContext.from_defaults(persist_dir=persist_dir)\n",
    "\n",
    "# Initialize the index with the loaded storage context\n",
    "#index = VectorStoreIndex([], storage_context=storage_context)\n",
    "index = load_index_from_storage(storage_context)\n",
    "\n",
    "# Access all documents in the index\n",
    "all_documents = list(list(storage_context.docstore.docs.values()))"
   ]
  },
  {
   "cell_type": "code",
   "execution_count": 79,
   "metadata": {},
   "outputs": [
    {
     "name": "stdout",
     "output_type": "stream",
     "text": [
      "Collecting openpyxl\n",
      "  Downloading openpyxl-3.1.5-py2.py3-none-any.whl.metadata (2.5 kB)\n",
      "Collecting et-xmlfile (from openpyxl)\n",
      "  Using cached et_xmlfile-1.1.0-py3-none-any.whl.metadata (1.8 kB)\n",
      "Downloading openpyxl-3.1.5-py2.py3-none-any.whl (250 kB)\n",
      "   ---------------------------------------- 0.0/250.9 kB ? eta -:--:--\n",
      "   ---- ---------------------------------- 30.7/250.9 kB 660.6 kB/s eta 0:00:01\n",
      "   ---------------------------------------  245.8/250.9 kB 3.0 MB/s eta 0:00:01\n",
      "   ---------------------------------------- 250.9/250.9 kB 3.1 MB/s eta 0:00:00\n",
      "Using cached et_xmlfile-1.1.0-py3-none-any.whl (4.7 kB)\n",
      "Installing collected packages: et-xmlfile, openpyxl\n",
      "Successfully installed et-xmlfile-1.1.0 openpyxl-3.1.5\n"
     ]
    }
   ],
   "source": [
    "! pip install openpyxl"
   ]
  },
  {
   "cell_type": "code",
   "execution_count": 35,
   "metadata": {},
   "outputs": [],
   "source": [
    "# all_documents[:10]"
   ]
  },
  {
   "cell_type": "code",
   "execution_count": 99,
   "metadata": {},
   "outputs": [],
   "source": [
    "dataset_generator = RagDatasetGenerator.from_documents(\n",
    "    documents = all_documents[:15],\n",
    "    llm = OpenAI(\n",
    "        model = \"gpt-3.5-turbo\",\n",
    "        #api_key = st.secrets[\"OPENAI_API_KEY\"]\n",
    "    )\n",
    ")"
   ]
  },
  {
   "cell_type": "code",
   "execution_count": 100,
   "metadata": {},
   "outputs": [],
   "source": [
    "eval_questions = dataset_generator.generate_dataset_from_nodes()"
   ]
  },
  {
   "cell_type": "code",
   "execution_count": 101,
   "metadata": {},
   "outputs": [],
   "source": [
    "# Initialize the OpenAI model\n",
    "openai_model = OpenAI(\n",
    "    system_prompt = \"You are a helpful travel assistant. When asked a question, answer from the data directory. \\\n",
    "        If you don't know the answer, say 'Nothing found in documents'\",\n",
    "    model = \"gpt-3.5-turbo\",\n",
    "    max_tokens = 250\n",
    ")"
   ]
  },
  {
   "cell_type": "code",
   "execution_count": 102,
   "metadata": {},
   "outputs": [],
   "source": [
    "# Initialize the evaluators\n",
    "correctness_evaluator = CorrectnessEvaluator(llm = openai_model) # Useful for measuring if the response is correct against a reference answer\n",
    "faithfulness_evaluator = FaithfulnessEvaluator(llm = openai_model) # Useful for measuring if the response is hallucinated\n",
    "relevancy_evaluator = RelevancyEvaluator(llm = openai_model) # Useful for measuring if the query is actually answered by the response"
   ]
  },
  {
   "cell_type": "code",
   "execution_count": 103,
   "metadata": {},
   "outputs": [
    {
     "data": {
      "text/plain": [
       "LabelledRagDataExample(query='Where can more detailed financial information about DAVOR, including revenue, profit, and balance sheet, be found?', query_by=CreatedBy(model_name='gpt-3.5-turbo', type=<CreatedByType.AI: 'ai'>), reference_contexts=[\"Adresa : Kutina, Podravska 1,\\nNaziv_subjekta : DAVOR,\\nPodnaslov_subjekta : DAVOR, limarski obrt, vl. Davor Kolobara, Kutina, Podravska ulica 1\\\\nTijelo : -,\\nGodina osnivanja : 2013,\\nRegistracijski broj : 97417378,\\nDjelatnost : 43.91 Radovi na krovištu (NKD 2007),\\nodgovorna_osoba : {'ime': 'Davor Kolobara', 'rola': 'vlasnik'}\\n\\ntitle : DAVOR, limarski obrt, vl. Davor Kolobara, Kutina, Podravska ulica 1,\\nhref : https://www.poslovna.hr/lite/davor/1333513/subjekti.aspx,\\nbody : DAVOR , Kutina Djelatnost: radovi na krovištu. Prihodi, dobit, bilanca, prikaz poslovanja za DAVOR , Kutina...\"], reference_answer='More detailed financial information about DAVOR, including revenue, profit, and balance sheet, can be found at https://www.poslovna.hr/lite/davor/1333513/subjekti.aspx.', reference_answer_by=CreatedBy(model_name='gpt-3.5-turbo', type=<CreatedByType.AI: 'ai'>))"
      ]
     },
     "execution_count": 103,
     "metadata": {},
     "output_type": "execute_result"
    }
   ],
   "source": [
    "eval_questions.examples[2]"
   ]
  },
  {
   "cell_type": "code",
   "execution_count": 105,
   "metadata": {},
   "outputs": [
    {
     "data": {
      "text/plain": [
       "['Who is the owner of the company DAVOR, a sheet metal craft business located in Kutina at Podravska ulica 1?',\n",
       " 'What is the main activity of DAVOR according to the NKD 2007 classification?',\n",
       " 'Where can more detailed financial information about DAVOR, including revenue, profit, and balance sheet, be found?']"
      ]
     },
     "execution_count": 105,
     "metadata": {},
     "output_type": "execute_result"
    }
   ],
   "source": [
    "[question.query for question in eval_questions.examples][:3]"
   ]
  },
  {
   "cell_type": "code",
   "execution_count": 106,
   "metadata": {},
   "outputs": [
    {
     "data": {
      "text/plain": [
       "'Davor Kolobara is the owner of the company DAVOR, a sheet metal craft business located in Kutina at Podravska ulica 1.'"
      ]
     },
     "execution_count": 106,
     "metadata": {},
     "output_type": "execute_result"
    }
   ],
   "source": [
    "index.as_query_engine().query('Who is the owner of the company DAVOR, a sheet metal craft business located in Kutina at Podravska ulica 1?').response"
   ]
  },
  {
   "cell_type": "code",
   "execution_count": 107,
   "metadata": {},
   "outputs": [],
   "source": [
    "# Define an asynchronous function for evaluation\n",
    "async def evaluate_async():\n",
    "    # Initialize the BatchEvalRunner\n",
    "    runner = BatchEvalRunner(\n",
    "        {\n",
    "            \"correctness\": correctness_evaluator,\n",
    "            \"faithfulness\": faithfulness_evaluator,\n",
    "            \"relevancy\": relevancy_evaluator\n",
    "        },\n",
    "        show_progress = True\n",
    "    )\n",
    "\n",
    "    # Run the asynchronous evaluation\n",
    "    eval_result = await runner.aevaluate_queries(\n",
    "        query_engine = index.as_query_engine(),\n",
    "        queries = [question.query for question in eval_questions.examples]\n",
    "    )\n",
    "\n",
    "    return eval_result"
   ]
  },
  {
   "cell_type": "code",
   "execution_count": 108,
   "metadata": {},
   "outputs": [
    {
     "name": "stderr",
     "output_type": "stream",
     "text": [
      "100%|██████████| 45/45 [00:29<00:00,  1.52it/s]\n",
      "100%|██████████| 135/135 [01:00<00:00,  2.24it/s]\n"
     ]
    }
   ],
   "source": [
    "# Run the asynchronous function using asyncio\n",
    "result = asyncio.run(evaluate_async())"
   ]
  },
  {
   "cell_type": "code",
   "execution_count": 109,
   "metadata": {},
   "outputs": [],
   "source": [
    "import pandas as pd"
   ]
  },
  {
   "cell_type": "code",
   "execution_count": 110,
   "metadata": {},
   "outputs": [],
   "source": [
    "# Extract relevant information from the evaluation results\n",
    "data = []\n",
    "for i, question in enumerate(eval_questions.examples):\n",
    "    correctness_result = result['correctness'][i]\n",
    "    faithfulness_result = result['faithfulness'][i]\n",
    "    relevancy_result = result['relevancy'][i]\n",
    "    data.append({\n",
    "        'Query': question.query,\n",
    "        'Correctness response': correctness_result.response,\n",
    "        'Correctness passing': correctness_result.passing,\n",
    "        'Correctness feedback': correctness_result.feedback,\n",
    "        'Correctness score': correctness_result.score,\n",
    "        'Faithfulness response': faithfulness_result.response,\n",
    "        'Faithfulness passing': faithfulness_result.passing,\n",
    "        'Faithfulness feedback': faithfulness_result.feedback,\n",
    "        'Faithfulness score': faithfulness_result.score,\n",
    "        'Relevancy response': relevancy_result.response,\n",
    "        'Relevancy passing': relevancy_result.passing,\n",
    "        'Relevancy feedback': relevancy_result.feedback,\n",
    "        'Relevancy score': relevancy_result.score,\n",
    "    })\n",
    "\n",
    "# Create a pandas DataFrame\n",
    "df = pd.DataFrame(data)"
   ]
  },
  {
   "cell_type": "code",
   "execution_count": 111,
   "metadata": {},
   "outputs": [],
   "source": [
    "# df\n",
    "\n",
    "df.to_excel('outputs/evaluation/eval_report.xlsx', sheet_name = 'eval_results', index = False)"
   ]
  },
  {
   "cell_type": "code",
   "execution_count": 112,
   "metadata": {},
   "outputs": [],
   "source": [
    "df.to_csv('outputs/evaluation/eval_report.csv', header=True, sep=\"|\", index = False)"
   ]
  },
  {
   "cell_type": "code",
   "execution_count": 113,
   "metadata": {},
   "outputs": [],
   "source": [
    "import pandas as pd\n",
    "import matplotlib.pyplot as plt\n",
    "import seaborn as sns\n",
    "sns.set()\n",
    "\n",
    "def visualize_avg_scores(df):\n",
    "    # Read the CSV data into a DataFrame\n",
    "    # Calculate the average scores for each metric\n",
    "    avg_correctness = df['Correctness score'].mean()\n",
    "    avg_faithfulness = df['Faithfulness score'].mean()\n",
    "    avg_relevancy = df['Relevancy score'].mean()\n",
    "\n",
    "    # Create a DataFrame for the average scores\n",
    "    avg_scores = pd.DataFrame({\n",
    "        'Metric': ['Correctness', 'Faithfulness', 'Relevancy'],\n",
    "        'Average Score': [avg_correctness, avg_faithfulness, avg_relevancy]\n",
    "    })\n",
    "\n",
    "    # Set up the seaborn style\n",
    "    sns.set(style=\"whitegrid\")\n",
    "\n",
    "    # Plot the average scores\n",
    "    plt.figure(figsize=(10, 6))\n",
    "    barplot = sns.barplot(x='Metric', y='Average Score', data=avg_scores, palette=['blue', 'green', 'orange'])\n",
    "\n",
    "    # Add labels on top of each bar\n",
    "    for index, row in avg_scores.iterrows():\n",
    "        barplot.text(index, row['Average Score'] + 0.05, round(row['Average Score'], 2), color='black', ha=\"center\")\n",
    "\n",
    "    # Set the title and labels\n",
    "    plt.title('Average Scores for Each Metric')\n",
    "    plt.xlabel('Metric')\n",
    "    plt.ylabel('Average Score')\n",
    "    plt.ylim(0, 5)\n",
    "    plt.show()"
   ]
  },
  {
   "cell_type": "code",
   "execution_count": 114,
   "metadata": {},
   "outputs": [
    {
     "name": "stderr",
     "output_type": "stream",
     "text": [
      "C:\\Users\\mpavisic\\AppData\\Local\\Temp\\ipykernel_76480\\2605340838.py:24: FutureWarning: \n",
      "\n",
      "Passing `palette` without assigning `hue` is deprecated and will be removed in v0.14.0. Assign the `x` variable to `hue` and set `legend=False` for the same effect.\n",
      "\n",
      "  barplot = sns.barplot(x='Metric', y='Average Score', data=avg_scores, palette=['blue', 'green', 'orange'])\n"
     ]
    },
    {
     "data": {
      "image/png": "[encoded data removed]",
      "text/plain": [
       "<Figure size 1000x600 with 1 Axes>"
      ]
     },
     "metadata": {},
     "output_type": "display_data"
    }
   ],
   "source": [
    "v = visualize_avg_scores(df)"
   ]
  }
 ],
 "metadata": {
  "kernelspec": {
   "display_name": "Python 3.9.19 ('fw_24')",
   "language": "python",
   "name": "python3"
  },
  "language_info": {
   "codemirror_mode": {
    "name": "ipython",
    "version": 3
   },
   "file_extension": ".py",
   "mimetype": "text/x-python",
   "name": "python",
   "nbconvert_exporter": "python",
   "pygments_lexer": "ipython3",
   "version": "3.9.19"
  },
  "orig_nbformat": 4,
  "vscode": {
   "interpreter": {
    "hash": "002b85b5079f3da3aae4414b1231371c80fc57d2bd742047e69786b7d50bd7d6"
   }
  }
 },
 "nbformat": 4,
 "nbformat_minor": 2
}
