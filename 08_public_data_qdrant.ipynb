{
 "cells": [
  {
   "cell_type": "code",
   "execution_count": 2,
   "metadata": {},
   "outputs": [],
   "source": [
    "from llama_index.vector_stores.qdrant import QdrantVectorStore\n",
    "from qdrant_client import QdrantClient, models\n",
    "from dotenv import load_dotenv\n",
    "from llama_index.core import SimpleDirectoryReader\n",
    "from llama_index.core.ingestion import IngestionPipeline\n",
    "from llama_index.core.node_parser import TokenTextSplitter\n",
    "from llama_index.core.extractors import TitleExtractor\n",
    "from llama_index.core.ingestion import IngestionPipeline\n",
    "from llama_index.llms.openai import OpenAI\n",
    "from llama_index.embeddings.openai import OpenAIEmbedding\n",
    "from llama_index.core import Settings\n",
    "from llama_index.core import PromptTemplate\n",
    "from storage.prompt_store.prompts import N3Prompts\n",
    "\n",
    "import os"
   ]
  },
  {
   "cell_type": "code",
   "execution_count": 3,
   "metadata": {},
   "outputs": [],
   "source": [
    "load_dotenv()\n",
    "n3p = N3Prompts()\n",
    "\n",
    "Settings.llm = OpenAI(model=\"gpt-4o\")\n",
    "Settings.embedding = OpenAIEmbedding(model=\"text-embedding-3-small\")"
   ]
  },
  {
   "cell_type": "code",
   "execution_count": 4,
   "metadata": {},
   "outputs": [],
   "source": [
    "from utils.file_loader import load_from_config"
   ]
  },
  {
   "cell_type": "code",
   "execution_count": 5,
   "metadata": {},
   "outputs": [],
   "source": [
    "public_data = load_from_config(\"scraped_data\")"
   ]
  },
  {
   "cell_type": "code",
   "execution_count": 6,
   "metadata": {},
   "outputs": [],
   "source": [
    "iter_dict = lambda x:  \",\\n\".join([f\"{k} : {v}\"  for k,v in x.items() if v!=''])\n",
    "\n",
    "def dict2str(i):\n",
    "   pi = iter_dict(public_data[i][\"poslovna.hr\"][\"poslovna_intro\"])\n",
    "   po = iter_dict(public_data[i][\"poslovna.hr\"][\"poslovna_osnovno\"])\n",
    "   ddgo = iter_dict(public_data[i][\"ddgo\"])\n",
    "   abs =  public_data[i][\"poslovna.hr\"][\"abstract\"]\n",
    "\n",
    "   abs_2 =\"\" if abs==\"\" else f\"\\n\\nDokument: \\n\\n{abs}\"\n",
    "\n",
    "   return f\"{pi}\\\\n{po}\\n\\n{ddgo}{abs_2}\""
   ]
  },
  {
   "cell_type": "code",
   "execution_count": 7,
   "metadata": {},
   "outputs": [],
   "source": [
    "FILTER_OF_RELEVANT_DOCS = \"\"\" i ==public_data[i]['poslovna.hr']['poslovna_intro']['OIB']  \\\n",
    "or public_data[i]['NAZIV'] ==public_data[i]['poslovna.hr']['poslovna_intro']['Naziv_subjekta']\\\n",
    "or public_data[i]['NAZIV'] ==public_data[i]['poslovna.hr']['poslovna_intro']['Podnaslov_subjekta']\\\n",
    "or public_data[i]['poslovna.hr']['poslovna_intro']['Podnaslov_subjekta']==''\n",
    "\"\"\"\n",
    "\n",
    "list_of_all = [{\"oib\": i, \"naziv\":public_data[i][\"NAZIV\"], \"doc\": dict2str(i)} for i in list(public_data.keys()) if eval(FILTER_OF_RELEVANT_DOCS)]"
   ]
  },
  {
   "cell_type": "code",
   "execution_count": 8,
   "metadata": {},
   "outputs": [],
   "source": [
    "from llama_index.core import VectorStoreIndex, Document\n",
    "from llama_index.core import StorageContext, load_index_from_storage\n",
    "\n",
    "list_of_doc_oibs = [i[\"oib\"] for i in list_of_all]\n",
    "list_of_names = [i[\"naziv\"] for i in list_of_all]\n",
    "list_of_docs= [Document(text=i[\"doc\"]) for i in list_of_all]"
   ]
  },
  {
   "cell_type": "code",
   "execution_count": 9,
   "metadata": {},
   "outputs": [],
   "source": [
    "from llama_index.core import SimpleDirectoryReader\n",
    "from llama_index.core.ingestion import IngestionPipeline\n",
    "from llama_index.core.node_parser import TokenTextSplitter\n",
    "from llama_index.core.extractors import TitleExtractor\n",
    "from llama_index.core.ingestion import IngestionPipeline"
   ]
  },
  {
   "cell_type": "code",
   "execution_count": 10,
   "metadata": {},
   "outputs": [],
   "source": [
    "qdrant_store_vdb = \"storage/qdrant_cache/q_public_data\""
   ]
  },
  {
   "cell_type": "code",
   "execution_count": 11,
   "metadata": {},
   "outputs": [
    {
     "name": "stdout",
     "output_type": "stream",
     "text": [
      "loading from disk\n"
     ]
    }
   ],
   "source": [
    "try:\n",
    "\n",
    "     # Check if the path exists\n",
    "    if not os.path.exists(qdrant_store_vdb):\n",
    "        raise FileNotFoundError(\"The specified path does not exist.\")\n",
    "\n",
    "    client = QdrantClient(path=qdrant_store_vdb)  # replace with your Qdrant server details\n",
    "\n",
    "    # Define the collection name where the vectors are stored\n",
    "    collection_name = \"public_company_data_q\"\n",
    "    # Create the QdrantVectorStore instance\n",
    "    vector_store = QdrantVectorStore(client=client, collection_name=collection_name)\n",
    "    index = VectorStoreIndex.from_vector_store(vector_store=vector_store)\n",
    "    print(\"loading from disk\")\n",
    "except:\n",
    "\n",
    "    client = QdrantClient(path=qdrant_store_vdb) # QdrantClient(location=\":memory:\")\n",
    "    client.create_collection(\n",
    "    collection_name=\"public_company_data_q\",\n",
    "    vectors_config=models.VectorParams(size=1536, distance=models.Distance.COSINE))\n",
    "    vector_store = QdrantVectorStore(client=client, collection_name=\"public_company_data_q\")\n",
    "    storage_context = StorageContext.from_defaults(vector_store=vector_store)\n",
    "\n",
    "    index = VectorStoreIndex.from_documents(\n",
    "        [],\n",
    "        storage_context=storage_context,\n",
    "    )\n",
    "    pipeline = IngestionPipeline(transformations=[TokenTextSplitter()])\n",
    "\n",
    "\n",
    "    for oib, name, doc in zip(list_of_doc_oibs, list_of_names, list_of_docs):\n",
    "        nodes = pipeline.run(documents=[doc])\n",
    "        for node in nodes:\n",
    "            node.metadata = {\"oib\" : oib}\n",
    "            node.metadata = {\"naziv\" : name}\n",
    "        index.insert_nodes(nodes)"
   ]
  },
  {
   "cell_type": "code",
   "execution_count": 12,
   "metadata": {},
   "outputs": [],
   "source": [
    "qa_prompt_abstract = PromptTemplate(\n",
    "    n3p.public_data_prompt\n",
    "\n",
    ")\n",
    "\n",
    "qe = index.as_chat_engine(qa_template= qa_prompt_abstract)"
   ]
  },
  {
   "cell_type": "code",
   "execution_count": 13,
   "metadata": {},
   "outputs": [],
   "source": [
    "resp = qe.query(\"{'oib': '57993674442', 'naziv': 'KOFEIN d.o.o.'}\")"
   ]
  },
  {
   "cell_type": "code",
   "execution_count": 15,
   "metadata": {},
   "outputs": [
    {
     "data": {
      "text/plain": [
       "<llama_index.core.indices.vector_store.base.VectorStoreIndex at 0x28f48b44520>"
      ]
     },
     "execution_count": 15,
     "metadata": {},
     "output_type": "execute_result"
    }
   ],
   "source": [
    "index"
   ]
  },
  {
   "cell_type": "code",
   "execution_count": 13,
   "metadata": {},
   "outputs": [],
   "source": [
    "from llama_index.core.tools import QueryEngineTool, ToolMetadata"
   ]
  },
  {
   "cell_type": "code",
   "execution_count": 14,
   "metadata": {},
   "outputs": [],
   "source": [
    "c_abstract_tool = QueryEngineTool(query_engine=qe, metadata=ToolMetadata(\n",
    "        name=\"public_company_data\",\n",
    "        description=\"this tool finds company public information using company name\"\n",
    "    ))"
   ]
  },
  {
   "cell_type": "code",
   "execution_count": 16,
   "metadata": {},
   "outputs": [
    {
     "data": {
      "text/plain": [
       "ToolOutput(content='KOFEIN d.o.o. is a limited liability company based in Zagreb, specializing in advertising and promotional services. Here are some key details about the company:\\n\\n- **Founded:** 2012\\n- **Capital:** 100% domestic\\n- **Annual Revenue (2023):** €1,175,124 (a decrease from €1,240,266 in 2022)\\n- **Net Profit (2023):** €103,065\\n- **Net Margin (2023):** 8.77%\\n- **Employees (2023):** 27 (a reduction from the previous year)\\n- **Director:** Tomislav Krajačić\\n\\nDespite a decrease in revenue, KOFEIN d.o.o. has remained profitable over the last two years.', tool_name='public_company_data', raw_input={'input': \"{'input': 'Kofein doo'}\"}, raw_output=Response(response='KOFEIN d.o.o. is a limited liability company based in Zagreb, specializing in advertising and promotional services. Here are some key details about the company:\\n\\n- **Founded:** 2012\\n- **Capital:** 100% domestic\\n- **Annual Revenue (2023):** €1,175,124 (a decrease from €1,240,266 in 2022)\\n- **Net Profit (2023):** €103,065\\n- **Net Margin (2023):** 8.77%\\n- **Employees (2023):** 27 (a reduction from the previous year)\\n- **Director:** Tomislav Krajačić\\n\\nDespite a decrease in revenue, KOFEIN d.o.o. has remained profitable over the last two years.', source_nodes=[NodeWithScore(node=TextNode(id_='7853c3ba-62bd-4c5a-a6fa-7b3dd16ef8d5', embedding=None, metadata={'naziv': 'KOFEIN d.o.o.'}, excluded_embed_metadata_keys=[], excluded_llm_metadata_keys=[], relationships={<NodeRelationship.SOURCE: '1'>: RelatedNodeInfo(node_id='e1c31b78-2d20-4131-81c0-091a5ee275e7', node_type=<ObjectType.DOCUMENT: '4'>, metadata={}, hash='7655e2dec0341a2d025dd85b527a2c6c3d31b1196f4c909eea6f0309d27a884c')}, text=\"OIB : 57993674442,\\nAdresa : Zagreb, Pavletićeva 1,\\nTelefon : 01 3378680,\\nTelefaks : 01 3378688,\\nWeb : www.kofein.hr,\\nNaziv_subjekta : KOFEIN d.o.o.,\\nPodnaslov_subjekta : KOFEIN društvo s ograničenom odgovornošću za promidžbu i usluge\\\\nTijelo : Trgovački sud u Zagrebu,\\nGodina osnivanja : 2012,\\nRegistracijski broj : 080793189,\\nDjelatnost : 73.11 Agencije za promidžbu (reklamu i propagandu) (NKD 2007),\\nVeličina : - mali (prema novom zakonu),\\nPorijeklo kapitala : 00% domaći kapital - izvor FINA,\\nodgovorna_osoba : {'ime': 'Tomislav Krajačić', 'rola': 'direktor'}\\n\\ntitle : KOFEIN d.o.o.- prihod, dobit, zaposleni, analiza, kontakt podaci - Poslovna,\\nhref : https://poslovna.hr/lite/kofein/1297341/subjekti.aspx,\\nbody : KOFEIN d.o.o. je 2022. ostvario ukupni godišnji prihod u iznosu od 1.240.266,00 € što predstavlja relativnu promjenu ukupnih prihoda od 104.542,00 € u odnosu na prethodno razdoblje kada je poslovni subjekt ostvario ukupne godišnje prihode u iznosu od 1.135.724,00 €. Poslovni subjekt je tekuće godine poslovao s neto dobiti, dok je ...\\n\\nDokument: \\n\\nPoslovni subjekt KOFEIN d.o.o. registriran je za djelatnost Agencije za promidžbu (reklamu i propagandu) (73.11). KOFEIN d.o.o. je  u privatnom vlasništvu. Temeljni kapital poslovnog subjekta financiran je 100% domaćim kapitalom, a u prethodnom razdoblju nije mijenjao iznos temeljnog kapitala.\\r\\nKOFEIN d.o.o. je 2023. ostvario ukupni godišnji prihod u iznosu od 1.175.124,00 € što predstavlja relativnu promjenu ukupnih prihoda od -65.142,00 € u odnosu na prethodno razdoblje kada je poslovni subjekt ostvario ukupne godišnje prihode u iznosu od 1.240.266,00 €.\\r\\nPoslovni subjekt je tokom posljednje dvije godine poslovao s dobiti. KOFEIN d.o.o. je u 2023. ostvario neto rezultat poslovanja u iznosu od 103.065,00 € dok je ostvarena neto marža iznosila 8,77%.\\r\\nPoslovni subjekt KOFEIN d.o.o. u 2023. smanjivao je broj zaposlenih, a imao je 27 zaposlenika.\", mimetype='text/plain', start_char_idx=0, end_char_idx=1924, text_template='{metadata_str}\\n\\n{content}', metadata_template='{key}: {value}', metadata_seperator='\\n'), score=0.8402894960811202), NodeWithScore(node=TextNode(id_='3ca66ab0-6e9d-4219-a5c9-731dd88ee5e3', embedding=None, metadata={'naziv': 'KOLADU j.d.o.o.'}, excluded_embed_metadata_keys=[], excluded_llm_metadata_keys=[], relationships={<NodeRelationship.SOURCE: '1'>: RelatedNodeInfo(node_id='04af2b0f-2602-4dcf-ae98-b6d53091a9e4', node_type=<ObjectType.DOCUMENT: '4'>, metadata={}, hash='6b2c158244316ef0208b0c088a3c3a9aa56a03d8ecaeac310b04df5e91ccc954')}, text=\"OIB : 54242816396,\\nAddress : Zagreb, Bolnička cesta 34e,\\nNaziv_subjekta : KOLADU j.d.o.o.,\\nPodnaslov_subjekta : KOLADU j.d.o.o. za usluge\\\\nRegistration body : Trgovački sud u Zagrebu,\\nFounded : 2021,\\nRegistration number : 081359838,\\nIndustry : 70.22 Business and other management consultancy activities (NKD 2007),\\nSize : - mikro (prema novom zakonu),\\nCapital origin : 00% domaći kapital - izvor FINA,\\nodgovorna_osoba : {'ime': 'Duje Kolak', 'rola': 'direktor'}\\n\\ntitle : KOLADU j.d.o.o.- revenues, profit, employees, analysis, contacts,\\nhref : https://www.poslovna.hr/lite/koladu/1674024/subjekti.aspx?lang=en,\\nbody : KOLADU j.d.o.o. je 2022. ostvario ukupni godišnji prihod u iznosu od 1.681,33 € što predstavlja relativnu promjenu ukupnih prihoda od -297,57 € u odnosu na prethodno razdoblje kada je poslovni subjekt ostvario ukupne godišnje prihode u iznosu od 1.978,90 €. Poslovni subjekt je tokom posljednje dvije godine poslovao s dobiti.\\n\\nDokument: \\n\\nPoslovni subjekt KOLADU j.d.o.o. registriran je za djelatnost Savjetovanje u vezi s poslovanjem i ostalim upravljanjem (70.22). KOLADU j.d.o.o. je  u privatnom vlasništvu. Temeljni kapital poslovnog subjekta financiran je 100% domaćim kapitalom, a u prethodnom razdoblju nije mijenjao iznos temeljnog kapitala.\\r\\nKOLADU j.d.o.o. je 2023. ostvario ukupni godišnji prihod u iznosu od 2.008,00 € što predstavlja relativnu promjenu ukupnih prihoda od 327,00 € u odnosu na prethodno razdoblje kada je poslovni subjekt ostvario ukupne godišnje prihode u iznosu od 1.681,00 €.\\r\\nPoslovni subjekt je tokom posljednje dvije godine poslovao s dobiti. KOLADU j.d.o.o. je u 2023. ostvario neto rezultat poslovanja u iznosu od 952,00 € dok je ostvarena neto marža iznosila 47,39%.\\r\\nPoslovni subjekt KOLADU j.d.o.o. u 2023. nije povećavao ni smanjivao broj zaposlenih, a imao je 0 zaposlenika.\", mimetype='text/plain', start_char_idx=0, end_char_idx=1835, text_template='{metadata_str}\\n\\n{content}', metadata_template='{key}: {value}', metadata_seperator='\\n'), score=0.7979758001396663)], metadata=None), is_error=False)"
      ]
     },
     "execution_count": 16,
     "metadata": {},
     "output_type": "execute_result"
    }
   ],
   "source": [
    "c_abstract_tool.call({\"input\": \"Kofein doo\"})"
   ]
  },
  {
   "cell_type": "code",
   "execution_count": 17,
   "metadata": {},
   "outputs": [],
   "source": [
    "from llama_index.core.agent import FunctionCallingAgentWorker, ReActAgent\n",
    "\n",
    "agent_worker2 = FunctionCallingAgentWorker.from_tools(\n",
    "    tools=[c_abstract_tool],\n",
    "    verbose=True,\n",
    "    system_prompt=n3p.nnn_agent\n",
    ")"
   ]
  },
  {
   "cell_type": "code",
   "execution_count": 18,
   "metadata": {},
   "outputs": [],
   "source": [
    "agent_360 = agent_worker2.as_agent()"
   ]
  },
  {
   "cell_type": "code",
   "execution_count": 21,
   "metadata": {},
   "outputs": [
    {
     "name": "stdout",
     "output_type": "stream",
     "text": [
      "Added user message to memory: {\"input\": \"Kofein doo\"}\n",
      "=== Calling Function ===\n",
      "Calling function: public_company_data with args: {\"input\": \"Kofein doo\"}\n",
      "=== Function Output ===\n",
      "KOFEIN d.o.o. is a limited liability company based in Zagreb, specializing in advertising and promotional services. Founded in 2012, it operates with 100% domestic capital. In 2023, the company achieved an annual revenue of €1,175,124 and a net profit of €103,065, with a net margin of 8.77%. The company had 27 employees in 2023.\n",
      "=== LLM Response ===\n",
      "Tvrtka **KOFEIN d.o.o.** je društvo s ograničenom odgovornošću sa sjedištem u Zagrebu, specijalizirano za oglašavanje i promotivne usluge. Osnovana je 2012. godine i posluje s 100% domaćim kapitalom. U 2023. godini, tvrtka je ostvarila godišnji prihod od 1.175.124 eura i neto dobit od 103.065 eura, s neto maržom od 8,77%. Tvrtka je imala 27 zaposlenika u 2023. godini.\n"
     ]
    },
    {
     "data": {
      "text/plain": [
       "AgentChatResponse(response='Tvrtka **KOFEIN d.o.o.** je društvo s ograničenom odgovornošću sa sjedištem u Zagrebu, specijalizirano za oglašavanje i promotivne usluge. Osnovana je 2012. godine i posluje s 100% domaćim kapitalom. U 2023. godini, tvrtka je ostvarila godišnji prihod od 1.175.124 eura i neto dobit od 103.065 eura, s neto maržom od 8,77%. Tvrtka je imala 27 zaposlenika u 2023. godini.', sources=[ToolOutput(content='KOFEIN d.o.o. is a limited liability company based in Zagreb, specializing in advertising and promotional services. Founded in 2012, it operates with 100% domestic capital. In 2023, the company achieved an annual revenue of €1,175,124 and a net profit of €103,065, with a net margin of 8.77%. The company had 27 employees in 2023.', tool_name='public_company_data', raw_input={'input': 'Kofein doo'}, raw_output=Response(response='KOFEIN d.o.o. is a limited liability company based in Zagreb, specializing in advertising and promotional services. Founded in 2012, it operates with 100% domestic capital. In 2023, the company achieved an annual revenue of €1,175,124 and a net profit of €103,065, with a net margin of 8.77%. The company had 27 employees in 2023.', source_nodes=[NodeWithScore(node=TextNode(id_='7853c3ba-62bd-4c5a-a6fa-7b3dd16ef8d5', embedding=None, metadata={'naziv': 'KOFEIN d.o.o.'}, excluded_embed_metadata_keys=[], excluded_llm_metadata_keys=[], relationships={<NodeRelationship.SOURCE: '1'>: RelatedNodeInfo(node_id='e1c31b78-2d20-4131-81c0-091a5ee275e7', node_type=<ObjectType.DOCUMENT: '4'>, metadata={}, hash='7655e2dec0341a2d025dd85b527a2c6c3d31b1196f4c909eea6f0309d27a884c')}, text=\"OIB : 57993674442,\\nAdresa : Zagreb, Pavletićeva 1,\\nTelefon : 01 3378680,\\nTelefaks : 01 3378688,\\nWeb : www.kofein.hr,\\nNaziv_subjekta : KOFEIN d.o.o.,\\nPodnaslov_subjekta : KOFEIN društvo s ograničenom odgovornošću za promidžbu i usluge\\\\nTijelo : Trgovački sud u Zagrebu,\\nGodina osnivanja : 2012,\\nRegistracijski broj : 080793189,\\nDjelatnost : 73.11 Agencije za promidžbu (reklamu i propagandu) (NKD 2007),\\nVeličina : - mali (prema novom zakonu),\\nPorijeklo kapitala : 00% domaći kapital - izvor FINA,\\nodgovorna_osoba : {'ime': 'Tomislav Krajačić', 'rola': 'direktor'}\\n\\ntitle : KOFEIN d.o.o.- prihod, dobit, zaposleni, analiza, kontakt podaci - Poslovna,\\nhref : https://poslovna.hr/lite/kofein/1297341/subjekti.aspx,\\nbody : KOFEIN d.o.o. je 2022. ostvario ukupni godišnji prihod u iznosu od 1.240.266,00 € što predstavlja relativnu promjenu ukupnih prihoda od 104.542,00 € u odnosu na prethodno razdoblje kada je poslovni subjekt ostvario ukupne godišnje prihode u iznosu od 1.135.724,00 €. Poslovni subjekt je tekuće godine poslovao s neto dobiti, dok je ...\\n\\nDokument: \\n\\nPoslovni subjekt KOFEIN d.o.o. registriran je za djelatnost Agencije za promidžbu (reklamu i propagandu) (73.11). KOFEIN d.o.o. je  u privatnom vlasništvu. Temeljni kapital poslovnog subjekta financiran je 100% domaćim kapitalom, a u prethodnom razdoblju nije mijenjao iznos temeljnog kapitala.\\r\\nKOFEIN d.o.o. je 2023. ostvario ukupni godišnji prihod u iznosu od 1.175.124,00 € što predstavlja relativnu promjenu ukupnih prihoda od -65.142,00 € u odnosu na prethodno razdoblje kada je poslovni subjekt ostvario ukupne godišnje prihode u iznosu od 1.240.266,00 €.\\r\\nPoslovni subjekt je tokom posljednje dvije godine poslovao s dobiti. KOFEIN d.o.o. je u 2023. ostvario neto rezultat poslovanja u iznosu od 103.065,00 € dok je ostvarena neto marža iznosila 8,77%.\\r\\nPoslovni subjekt KOFEIN d.o.o. u 2023. smanjivao je broj zaposlenih, a imao je 27 zaposlenika.\", mimetype='text/plain', start_char_idx=0, end_char_idx=1924, text_template='{metadata_str}\\n\\n{content}', metadata_template='{key}: {value}', metadata_seperator='\\n'), score=0.8402894960811202), NodeWithScore(node=TextNode(id_='3ca66ab0-6e9d-4219-a5c9-731dd88ee5e3', embedding=None, metadata={'naziv': 'KOLADU j.d.o.o.'}, excluded_embed_metadata_keys=[], excluded_llm_metadata_keys=[], relationships={<NodeRelationship.SOURCE: '1'>: RelatedNodeInfo(node_id='04af2b0f-2602-4dcf-ae98-b6d53091a9e4', node_type=<ObjectType.DOCUMENT: '4'>, metadata={}, hash='6b2c158244316ef0208b0c088a3c3a9aa56a03d8ecaeac310b04df5e91ccc954')}, text=\"OIB : 54242816396,\\nAddress : Zagreb, Bolnička cesta 34e,\\nNaziv_subjekta : KOLADU j.d.o.o.,\\nPodnaslov_subjekta : KOLADU j.d.o.o. za usluge\\\\nRegistration body : Trgovački sud u Zagrebu,\\nFounded : 2021,\\nRegistration number : 081359838,\\nIndustry : 70.22 Business and other management consultancy activities (NKD 2007),\\nSize : - mikro (prema novom zakonu),\\nCapital origin : 00% domaći kapital - izvor FINA,\\nodgovorna_osoba : {'ime': 'Duje Kolak', 'rola': 'direktor'}\\n\\ntitle : KOLADU j.d.o.o.- revenues, profit, employees, analysis, contacts,\\nhref : https://www.poslovna.hr/lite/koladu/1674024/subjekti.aspx?lang=en,\\nbody : KOLADU j.d.o.o. je 2022. ostvario ukupni godišnji prihod u iznosu od 1.681,33 € što predstavlja relativnu promjenu ukupnih prihoda od -297,57 € u odnosu na prethodno razdoblje kada je poslovni subjekt ostvario ukupne godišnje prihode u iznosu od 1.978,90 €. Poslovni subjekt je tokom posljednje dvije godine poslovao s dobiti.\\n\\nDokument: \\n\\nPoslovni subjekt KOLADU j.d.o.o. registriran je za djelatnost Savjetovanje u vezi s poslovanjem i ostalim upravljanjem (70.22). KOLADU j.d.o.o. je  u privatnom vlasništvu. Temeljni kapital poslovnog subjekta financiran je 100% domaćim kapitalom, a u prethodnom razdoblju nije mijenjao iznos temeljnog kapitala.\\r\\nKOLADU j.d.o.o. je 2023. ostvario ukupni godišnji prihod u iznosu od 2.008,00 € što predstavlja relativnu promjenu ukupnih prihoda od 327,00 € u odnosu na prethodno razdoblje kada je poslovni subjekt ostvario ukupne godišnje prihode u iznosu od 1.681,00 €.\\r\\nPoslovni subjekt je tokom posljednje dvije godine poslovao s dobiti. KOLADU j.d.o.o. je u 2023. ostvario neto rezultat poslovanja u iznosu od 952,00 € dok je ostvarena neto marža iznosila 47,39%.\\r\\nPoslovni subjekt KOLADU j.d.o.o. u 2023. nije povećavao ni smanjivao broj zaposlenih, a imao je 0 zaposlenika.\", mimetype='text/plain', start_char_idx=0, end_char_idx=1835, text_template='{metadata_str}\\n\\n{content}', metadata_template='{key}: {value}', metadata_seperator='\\n'), score=0.7979758001396663)], metadata=None), is_error=False)], source_nodes=[NodeWithScore(node=TextNode(id_='7853c3ba-62bd-4c5a-a6fa-7b3dd16ef8d5', embedding=None, metadata={'naziv': 'KOFEIN d.o.o.'}, excluded_embed_metadata_keys=[], excluded_llm_metadata_keys=[], relationships={<NodeRelationship.SOURCE: '1'>: RelatedNodeInfo(node_id='e1c31b78-2d20-4131-81c0-091a5ee275e7', node_type=<ObjectType.DOCUMENT: '4'>, metadata={}, hash='7655e2dec0341a2d025dd85b527a2c6c3d31b1196f4c909eea6f0309d27a884c')}, text=\"OIB : 57993674442,\\nAdresa : Zagreb, Pavletićeva 1,\\nTelefon : 01 3378680,\\nTelefaks : 01 3378688,\\nWeb : www.kofein.hr,\\nNaziv_subjekta : KOFEIN d.o.o.,\\nPodnaslov_subjekta : KOFEIN društvo s ograničenom odgovornošću za promidžbu i usluge\\\\nTijelo : Trgovački sud u Zagrebu,\\nGodina osnivanja : 2012,\\nRegistracijski broj : 080793189,\\nDjelatnost : 73.11 Agencije za promidžbu (reklamu i propagandu) (NKD 2007),\\nVeličina : - mali (prema novom zakonu),\\nPorijeklo kapitala : 00% domaći kapital - izvor FINA,\\nodgovorna_osoba : {'ime': 'Tomislav Krajačić', 'rola': 'direktor'}\\n\\ntitle : KOFEIN d.o.o.- prihod, dobit, zaposleni, analiza, kontakt podaci - Poslovna,\\nhref : https://poslovna.hr/lite/kofein/1297341/subjekti.aspx,\\nbody : KOFEIN d.o.o. je 2022. ostvario ukupni godišnji prihod u iznosu od 1.240.266,00 € što predstavlja relativnu promjenu ukupnih prihoda od 104.542,00 € u odnosu na prethodno razdoblje kada je poslovni subjekt ostvario ukupne godišnje prihode u iznosu od 1.135.724,00 €. Poslovni subjekt je tekuće godine poslovao s neto dobiti, dok je ...\\n\\nDokument: \\n\\nPoslovni subjekt KOFEIN d.o.o. registriran je za djelatnost Agencije za promidžbu (reklamu i propagandu) (73.11). KOFEIN d.o.o. je  u privatnom vlasništvu. Temeljni kapital poslovnog subjekta financiran je 100% domaćim kapitalom, a u prethodnom razdoblju nije mijenjao iznos temeljnog kapitala.\\r\\nKOFEIN d.o.o. je 2023. ostvario ukupni godišnji prihod u iznosu od 1.175.124,00 € što predstavlja relativnu promjenu ukupnih prihoda od -65.142,00 € u odnosu na prethodno razdoblje kada je poslovni subjekt ostvario ukupne godišnje prihode u iznosu od 1.240.266,00 €.\\r\\nPoslovni subjekt je tokom posljednje dvije godine poslovao s dobiti. KOFEIN d.o.o. je u 2023. ostvario neto rezultat poslovanja u iznosu od 103.065,00 € dok je ostvarena neto marža iznosila 8,77%.\\r\\nPoslovni subjekt KOFEIN d.o.o. u 2023. smanjivao je broj zaposlenih, a imao je 27 zaposlenika.\", mimetype='text/plain', start_char_idx=0, end_char_idx=1924, text_template='{metadata_str}\\n\\n{content}', metadata_template='{key}: {value}', metadata_seperator='\\n'), score=0.8402894960811202), NodeWithScore(node=TextNode(id_='3ca66ab0-6e9d-4219-a5c9-731dd88ee5e3', embedding=None, metadata={'naziv': 'KOLADU j.d.o.o.'}, excluded_embed_metadata_keys=[], excluded_llm_metadata_keys=[], relationships={<NodeRelationship.SOURCE: '1'>: RelatedNodeInfo(node_id='04af2b0f-2602-4dcf-ae98-b6d53091a9e4', node_type=<ObjectType.DOCUMENT: '4'>, metadata={}, hash='6b2c158244316ef0208b0c088a3c3a9aa56a03d8ecaeac310b04df5e91ccc954')}, text=\"OIB : 54242816396,\\nAddress : Zagreb, Bolnička cesta 34e,\\nNaziv_subjekta : KOLADU j.d.o.o.,\\nPodnaslov_subjekta : KOLADU j.d.o.o. za usluge\\\\nRegistration body : Trgovački sud u Zagrebu,\\nFounded : 2021,\\nRegistration number : 081359838,\\nIndustry : 70.22 Business and other management consultancy activities (NKD 2007),\\nSize : - mikro (prema novom zakonu),\\nCapital origin : 00% domaći kapital - izvor FINA,\\nodgovorna_osoba : {'ime': 'Duje Kolak', 'rola': 'direktor'}\\n\\ntitle : KOLADU j.d.o.o.- revenues, profit, employees, analysis, contacts,\\nhref : https://www.poslovna.hr/lite/koladu/1674024/subjekti.aspx?lang=en,\\nbody : KOLADU j.d.o.o. je 2022. ostvario ukupni godišnji prihod u iznosu od 1.681,33 € što predstavlja relativnu promjenu ukupnih prihoda od -297,57 € u odnosu na prethodno razdoblje kada je poslovni subjekt ostvario ukupne godišnje prihode u iznosu od 1.978,90 €. Poslovni subjekt je tokom posljednje dvije godine poslovao s dobiti.\\n\\nDokument: \\n\\nPoslovni subjekt KOLADU j.d.o.o. registriran je za djelatnost Savjetovanje u vezi s poslovanjem i ostalim upravljanjem (70.22). KOLADU j.d.o.o. je  u privatnom vlasništvu. Temeljni kapital poslovnog subjekta financiran je 100% domaćim kapitalom, a u prethodnom razdoblju nije mijenjao iznos temeljnog kapitala.\\r\\nKOLADU j.d.o.o. je 2023. ostvario ukupni godišnji prihod u iznosu od 2.008,00 € što predstavlja relativnu promjenu ukupnih prihoda od 327,00 € u odnosu na prethodno razdoblje kada je poslovni subjekt ostvario ukupne godišnje prihode u iznosu od 1.681,00 €.\\r\\nPoslovni subjekt je tokom posljednje dvije godine poslovao s dobiti. KOLADU j.d.o.o. je u 2023. ostvario neto rezultat poslovanja u iznosu od 952,00 € dok je ostvarena neto marža iznosila 47,39%.\\r\\nPoslovni subjekt KOLADU j.d.o.o. u 2023. nije povećavao ni smanjivao broj zaposlenih, a imao je 0 zaposlenika.\", mimetype='text/plain', start_char_idx=0, end_char_idx=1835, text_template='{metadata_str}\\n\\n{content}', metadata_template='{key}: {value}', metadata_seperator='\\n'), score=0.7979758001396663)], is_dummy_stream=False, metadata=None)"
      ]
     },
     "execution_count": 21,
     "metadata": {},
     "output_type": "execute_result"
    }
   ],
   "source": [
    "agent_360.chat('{\"input\": \"Kofein doo\"}')"
   ]
  },
  {
   "cell_type": "code",
   "execution_count": 18,
   "metadata": {},
   "outputs": [],
   "source": []
  }
 ],
 "metadata": {
  "kernelspec": {
   "display_name": "Python 3.9.19 ('fw_24')",
   "language": "python",
   "name": "python3"
  },
  "language_info": {
   "codemirror_mode": {
    "name": "ipython",
    "version": 3
   },
   "file_extension": ".py",
   "mimetype": "text/x-python",
   "name": "python",
   "nbconvert_exporter": "python",
   "pygments_lexer": "ipython3",
   "version": "3.9.19"
  },
  "orig_nbformat": 4,
  "vscode": {
   "interpreter": {
    "hash": "002b85b5079f3da3aae4414b1231371c80fc57d2bd742047e69786b7d50bd7d6"
   }
  }
 },
 "nbformat": 4,
 "nbformat_minor": 2
}
