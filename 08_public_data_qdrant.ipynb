{
 "cells": [
  {
   "cell_type": "code",
   "execution_count": 1,
   "metadata": {},
   "outputs": [],
   "source": [
    "from llama_index.vector_stores.qdrant import QdrantVectorStore\n",
    "from qdrant_client import QdrantClient, models\n",
    "from dotenv import load_dotenv\n",
    "from llama_index.core import SimpleDirectoryReader\n",
    "from llama_index.core.ingestion import IngestionPipeline\n",
    "from llama_index.core.node_parser import TokenTextSplitter\n",
    "from llama_index.core.extractors import TitleExtractor\n",
    "from llama_index.core.ingestion import IngestionPipeline\n",
    "from llama_index.llms.openai import OpenAI\n",
    "from llama_index.embeddings.openai import OpenAIEmbedding\n",
    "from llama_index.core import Settings\n",
    "from llama_index.core import PromptTemplate\n",
    "from storage.prompt_store.prompts import N3Prompts\n",
    "\n",
    "import os"
   ]
  },
  {
   "cell_type": "code",
   "execution_count": 2,
   "metadata": {},
   "outputs": [],
   "source": [
    "load_dotenv()\n",
    "n3p = N3Prompts()\n",
    "\n",
    "Settings.llm = OpenAI(model=\"gpt-4o\")\n",
    "Settings.embedding = OpenAIEmbedding(model=\"text-embedding-3-small\")"
   ]
  },
  {
   "cell_type": "code",
   "execution_count": 3,
   "metadata": {},
   "outputs": [],
   "source": [
    "from utils.file_loader import load_from_config"
   ]
  },
  {
   "cell_type": "code",
   "execution_count": 4,
   "metadata": {},
   "outputs": [],
   "source": [
    "public_data = load_from_config(\"scraped_data\")"
   ]
  },
  {
   "cell_type": "code",
   "execution_count": 5,
   "metadata": {},
   "outputs": [],
   "source": [
    "iter_dict = lambda x:  \",\\n\".join([f\"{k} : {v}\"  for k,v in x.items() if v!=''])\n",
    "\n",
    "def dict2str(i):\n",
    "   pi = iter_dict(public_data[i][\"poslovna.hr\"][\"poslovna_intro\"])\n",
    "   po = iter_dict(public_data[i][\"poslovna.hr\"][\"poslovna_osnovno\"])\n",
    "   ddgo = iter_dict(public_data[i][\"ddgo\"])\n",
    "   abs =  public_data[i][\"poslovna.hr\"][\"abstract\"]\n",
    "\n",
    "   abs_2 =\"\" if abs==\"\" else f\"\\n\\nDokument: \\n\\n{abs}\"\n",
    "\n",
    "   return f\"{pi}\\\\n{po}\\n\\n{ddgo}{abs_2}\""
   ]
  },
  {
   "cell_type": "code",
   "execution_count": 6,
   "metadata": {},
   "outputs": [],
   "source": [
    "FILTER_OF_RELEVANT_DOCS = \"\"\" i ==public_data[i]['poslovna.hr']['poslovna_intro']['OIB']  \\\n",
    "or public_data[i]['NAZIV'] ==public_data[i]['poslovna.hr']['poslovna_intro']['Naziv_subjekta']\\\n",
    "or public_data[i]['NAZIV'] ==public_data[i]['poslovna.hr']['poslovna_intro']['Podnaslov_subjekta']\\\n",
    "or public_data[i]['poslovna.hr']['poslovna_intro']['Podnaslov_subjekta']==''\n",
    "\"\"\"\n",
    "\n",
    "list_of_all = [{\"oib\": i, \"naziv\":public_data[i][\"NAZIV\"], \"doc\": dict2str(i)} for i in list(public_data.keys()) if eval(FILTER_OF_RELEVANT_DOCS)]"
   ]
  },
  {
   "cell_type": "code",
   "execution_count": 7,
   "metadata": {},
   "outputs": [],
   "source": [
    "from llama_index.core import VectorStoreIndex, Document\n",
    "from llama_index.core import StorageContext, load_index_from_storage\n",
    "\n",
    "list_of_doc_oibs = [i[\"oib\"] for i in list_of_all]\n",
    "list_of_names = [i[\"naziv\"] for i in list_of_all]\n",
    "list_of_docs= [Document(text=i[\"doc\"]) for i in list_of_all]"
   ]
  },
  {
   "cell_type": "code",
   "execution_count": 8,
   "metadata": {},
   "outputs": [],
   "source": [
    "from llama_index.core import SimpleDirectoryReader\n",
    "from llama_index.core.ingestion import IngestionPipeline\n",
    "from llama_index.core.node_parser import TokenTextSplitter\n",
    "from llama_index.core.extractors import TitleExtractor\n",
    "from llama_index.core.ingestion import IngestionPipeline"
   ]
  },
  {
   "cell_type": "code",
   "execution_count": 9,
   "metadata": {},
   "outputs": [],
   "source": [
    "qdrant_store_vdb = \"storage/qdrant_cache/q_public_data_2\""
   ]
  },
  {
   "cell_type": "code",
   "execution_count": 10,
   "metadata": {},
   "outputs": [
    {
     "name": "stdout",
     "output_type": "stream",
     "text": [
      "loading from disk\n"
     ]
    }
   ],
   "source": [
    "try:\n",
    "\n",
    "     # Check if the path exists\n",
    "    if not os.path.exists(qdrant_store_vdb):\n",
    "        raise FileNotFoundError(\"The specified path does not exist.\")\n",
    "\n",
    "    client = QdrantClient(path=qdrant_store_vdb)  # replace with your Qdrant server details\n",
    "\n",
    "    # Define the collection name where the vectors are stored\n",
    "    collection_name = \"public_company_data_q2\"\n",
    "    # Create the QdrantVectorStore instance\n",
    "    vector_store = QdrantVectorStore(client=client, collection_name=collection_name)\n",
    "    index = VectorStoreIndex.from_vector_store(vector_store=vector_store)\n",
    "    print(\"loading from disk\")\n",
    "except:\n",
    "\n",
    "    client = QdrantClient(location=\":memory:\")\n",
    "    client.create_collection(\n",
    "    collection_name=\"public_company_data_q2\",\n",
    "    vectors_config=models.VectorParams(size=1536, distance=models.Distance.COSINE))\n",
    "    vector_store = QdrantVectorStore(client=client, collection_name=\"public_company_data_q2\")\n",
    "    storage_context = StorageContext.from_defaults(vector_store=vector_store)\n",
    "\n",
    "    index = VectorStoreIndex.from_documents(\n",
    "        [],\n",
    "        storage_context=storage_context,\n",
    "    )\n",
    "    pipeline = IngestionPipeline(transformations=[TokenTextSplitter()])\n",
    "\n",
    "\n",
    "    for oib, name, doc in zip(list_of_doc_oibs, list_of_names, list_of_docs):\n",
    "        nodes = pipeline.run(documents=[doc])\n",
    "        for node in nodes:\n",
    "            node.metadata = {\"oib\" : oib}\n",
    "            node.metadata = {\"naziv\" : name}\n",
    "        index.insert_nodes(nodes)"
   ]
  },
  {
   "cell_type": "code",
   "execution_count": null,
   "metadata": {},
   "outputs": [],
   "source": []
  },
  {
   "cell_type": "code",
   "execution_count": 13,
   "metadata": {},
   "outputs": [],
   "source": [
    "qa_prompt_abstract = PromptTemplate(\n",
    "    n3p.public_data_prompt\n",
    "\n",
    ")\n",
    "\n",
    "qe = index.as_chat_engine(qa_template= qa_prompt_abstract)"
   ]
  },
  {
   "cell_type": "code",
   "execution_count": 14,
   "metadata": {},
   "outputs": [],
   "source": [
    "resp = qe.query(\"{'oib': '57993674442', 'naziv': 'KOFEIN d.o.o.'}\")"
   ]
  },
  {
   "cell_type": "code",
   "execution_count": 16,
   "metadata": {},
   "outputs": [
    {
     "data": {
      "text/plain": [
       "'Tvrtka **KOFEIN d.o.o.** s OIB-om **57993674442** nalazi se u Zagrebu na adresi Pavletićeva 1. Osnovana je 2012. godine i registrirana je za djelatnost agencija za promidžbu (reklamu i propagandu). Tvrtka je u privatnom vlasništvu i financirana je 100% domaćim kapitalom.\\n\\n**Financijski podaci za 2023. godinu:**\\n- Ukupni godišnji prihod: 1.175.124,00 € (smanjenje u odnosu na prethodnu godinu)\\n- Neto dobit: 103.065,00 €\\n- Broj zaposlenika: 27\\n\\nDirektor tvrtke je Tomislav Krajačić. Više informacija možete pronaći na njihovoj web stranici [www.kofein.hr](http://www.kofein.hr).'"
      ]
     },
     "execution_count": 16,
     "metadata": {},
     "output_type": "execute_result"
    }
   ],
   "source": [
    "resp.response"
   ]
  },
  {
   "cell_type": "code",
   "execution_count": 18,
   "metadata": {},
   "outputs": [
    {
     "data": {
      "text/plain": [
       "<llama_index.core.indices.vector_store.base.VectorStoreIndex at 0x23584688f70>"
      ]
     },
     "execution_count": 18,
     "metadata": {},
     "output_type": "execute_result"
    }
   ],
   "source": [
    "index"
   ]
  },
  {
   "cell_type": "code",
   "execution_count": 20,
   "metadata": {},
   "outputs": [],
   "source": [
    "from llama_index.core.tools import QueryEngineTool, ToolMetadata"
   ]
  },
  {
   "cell_type": "code",
   "execution_count": 21,
   "metadata": {},
   "outputs": [],
   "source": [
    "c_abstract_tool = QueryEngineTool(query_engine=qe, metadata=ToolMetadata(\n",
    "        name=\"public_company_data\",\n",
    "        description=\"this tool finds company public information using company name\"\n",
    "    ))"
   ]
  },
  {
   "cell_type": "code",
   "execution_count": 23,
   "metadata": {},
   "outputs": [],
   "source": [
    "resp = c_abstract_tool.call({\"input\": \"Kofein doo\"})"
   ]
  },
  {
   "cell_type": "code",
   "execution_count": 24,
   "metadata": {},
   "outputs": [
    {
     "data": {
      "text/plain": [
       "\"KOFEIN d.o.o. is a company based in Zagreb that specializes in advertising and promotional services. Founded in 2012, it operates as a limited liability company. In 2023, the company achieved a total annual revenue of €1,175,124, which is a decrease from the previous year's revenue of €1,240,266. Despite the reduction in revenue, KOFEIN d.o.o. has remained profitable over the last two years, with a net profit of €103,065 in 2023 and a net margin of 8.77%. The company had 27 employees in 2023, a reduction from the previous year. The director of KOFEIN d.o.o. is Tomislav Krajačić.\""
      ]
     },
     "execution_count": 24,
     "metadata": {},
     "output_type": "execute_result"
    }
   ],
   "source": [
    "resp.content"
   ]
  },
  {
   "cell_type": "code",
   "execution_count": 25,
   "metadata": {},
   "outputs": [
    {
     "data": {
      "text/plain": [
       "'public_company_data'"
      ]
     },
     "execution_count": 25,
     "metadata": {},
     "output_type": "execute_result"
    }
   ],
   "source": [
    "resp.tool_name"
   ]
  },
  {
   "cell_type": "code",
   "execution_count": 28,
   "metadata": {},
   "outputs": [
    {
     "data": {
      "text/plain": [
       "dict_keys(['content', 'tool_name', 'raw_input', 'raw_output', 'is_error'])"
      ]
     },
     "execution_count": 28,
     "metadata": {},
     "output_type": "execute_result"
    }
   ],
   "source": [
    "dict(resp).keys()"
   ]
  },
  {
   "cell_type": "code",
   "execution_count": 44,
   "metadata": {},
   "outputs": [
    {
     "data": {
      "text/plain": [
       "NodeWithScore(node=TextNode(id_='5e99d72f-59f8-48b7-9a0f-0e1b24b5ae5f', embedding=None, metadata={'naziv': 'KOLADU j.d.o.o.'}, excluded_embed_metadata_keys=[], excluded_llm_metadata_keys=[], relationships={<NodeRelationship.SOURCE: '1'>: RelatedNodeInfo(node_id='4ee12028-f195-4bd0-9fb0-4c4db357bc4c', node_type=<ObjectType.DOCUMENT: '4'>, metadata={}, hash='6b2c158244316ef0208b0c088a3c3a9aa56a03d8ecaeac310b04df5e91ccc954')}, text=\"OIB : 54242816396,\\nAddress : Zagreb, Bolnička cesta 34e,\\nNaziv_subjekta : KOLADU j.d.o.o.,\\nPodnaslov_subjekta : KOLADU j.d.o.o. za usluge\\\\nRegistration body : Trgovački sud u Zagrebu,\\nFounded : 2021,\\nRegistration number : 081359838,\\nIndustry : 70.22 Business and other management consultancy activities (NKD 2007),\\nSize : - mikro (prema novom zakonu),\\nCapital origin : 00% domaći kapital - izvor FINA,\\nodgovorna_osoba : {'ime': 'Duje Kolak', 'rola': 'direktor'}\\n\\ntitle : KOLADU j.d.o.o.- revenues, profit, employees, analysis, contacts,\\nhref : https://www.poslovna.hr/lite/koladu/1674024/subjekti.aspx?lang=en,\\nbody : KOLADU j.d.o.o. je 2022. ostvario ukupni godišnji prihod u iznosu od 1.681,33 € što predstavlja relativnu promjenu ukupnih prihoda od -297,57 € u odnosu na prethodno razdoblje kada je poslovni subjekt ostvario ukupne godišnje prihode u iznosu od 1.978,90 €. Poslovni subjekt je tokom posljednje dvije godine poslovao s dobiti.\\n\\nDokument: \\n\\nPoslovni subjekt KOLADU j.d.o.o. registriran je za djelatnost Savjetovanje u vezi s poslovanjem i ostalim upravljanjem (70.22). KOLADU j.d.o.o. je  u privatnom vlasništvu. Temeljni kapital poslovnog subjekta financiran je 100% domaćim kapitalom, a u prethodnom razdoblju nije mijenjao iznos temeljnog kapitala.\\r\\nKOLADU j.d.o.o. je 2023. ostvario ukupni godišnji prihod u iznosu od 2.008,00 € što predstavlja relativnu promjenu ukupnih prihoda od 327,00 € u odnosu na prethodno razdoblje kada je poslovni subjekt ostvario ukupne godišnje prihode u iznosu od 1.681,00 €.\\r\\nPoslovni subjekt je tokom posljednje dvije godine poslovao s dobiti. KOLADU j.d.o.o. je u 2023. ostvario neto rezultat poslovanja u iznosu od 952,00 € dok je ostvarena neto marža iznosila 47,39%.\\r\\nPoslovni subjekt KOLADU j.d.o.o. u 2023. nije povećavao ni smanjivao broj zaposlenih, a imao je 0 zaposlenika.\", mimetype='text/plain', start_char_idx=0, end_char_idx=1835, text_template='{metadata_str}\\n\\n{content}', metadata_template='{key}: {value}', metadata_seperator='\\n'), score=0.7979758546169771)"
      ]
     },
     "execution_count": 44,
     "metadata": {},
     "output_type": "execute_result"
    }
   ],
   "source": [
    "resp.raw_output.source_nodes[1]"
   ]
  },
  {
   "cell_type": "code",
   "execution_count": 45,
   "metadata": {},
   "outputs": [],
   "source": [
    "from llama_index.core.agent import FunctionCallingAgentWorker, ReActAgent\n",
    "\n",
    "agent_worker2 = FunctionCallingAgentWorker.from_tools(\n",
    "    tools=[c_abstract_tool],\n",
    "    verbose=True,\n",
    "    system_prompt=n3p.nnn_agent\n",
    ")"
   ]
  },
  {
   "cell_type": "code",
   "execution_count": 46,
   "metadata": {},
   "outputs": [],
   "source": [
    "agent_360 = agent_worker2.as_agent()"
   ]
  },
  {
   "cell_type": "code",
   "execution_count": 47,
   "metadata": {},
   "outputs": [
    {
     "name": "stdout",
     "output_type": "stream",
     "text": [
      "Added user message to memory: {\"input\": \"Kofein doo\"}\n",
      "=== Calling Function ===\n",
      "Calling function: public_company_data with args: {\"input\": \"Kofein doo\"}\n",
      "=== Function Output ===\n",
      "KOFEIN d.o.o. is a private company based in Zagreb, specializing in advertising and promotional services. Established in 2012, the company operates with 100% domestic capital. In 2023, KOFEIN d.o.o. achieved a total annual revenue of €1,175,124, reflecting a decrease of €65,142 compared to the previous year. Despite the reduction in revenue, the company has been profitable over the last two years, with a net profit of €103,065 in 2023 and a net margin of 8.77%. The company had 27 employees in 2023, a reduction from the previous year.\n",
      "=== LLM Response ===\n",
      "**KOFEIN d.o.o.**\n",
      "\n",
      "- **Sjedište:** Zagreb\n",
      "- **Djelatnost:** Oglašavanje i promotivne usluge\n",
      "- **Osnivanje:** 2012\n",
      "- **Kapital:** 100% domaći\n",
      "- **Prihod (2023):** €1,175,124 (smanjenje od €65,142 u odnosu na prethodnu godinu)\n",
      "- **Neto dobit (2023):** €103,065\n",
      "- **Neto marža:** 8.77%\n",
      "- **Broj zaposlenih (2023):** 27 (smanjenje u odnosu na prethodnu godinu)\n",
      "\n",
      "Unatoč smanjenju prihoda, tvrtka je bila profitabilna posljednje dvije godine.\n"
     ]
    }
   ],
   "source": [
    "resp_ag = agent_360.chat('{\"input\": \"Kofein doo\"}')"
   ]
  },
  {
   "cell_type": "code",
   "execution_count": 74,
   "metadata": {},
   "outputs": [],
   "source": [
    "from utils.nnn_tools import agent2"
   ]
  },
  {
   "cell_type": "code",
   "execution_count": 84,
   "metadata": {},
   "outputs": [],
   "source": [
    "#resp = agent2.chat(\"što portal jutarnji.hr piše o tvrtki kofein\")"
   ]
  },
  {
   "cell_type": "code",
   "execution_count": 85,
   "metadata": {},
   "outputs": [
    {
     "data": {
      "text/plain": [
       "['search_company_news']"
      ]
     },
     "execution_count": 85,
     "metadata": {},
     "output_type": "execute_result"
    }
   ],
   "source": [
    "[i.tool_name for i in resp.sources]"
   ]
  },
  {
   "cell_type": "code",
   "execution_count": 91,
   "metadata": {},
   "outputs": [
    {
     "data": {
      "text/plain": [
       "{'content': '1. Novi ured poznate domaće agencije Kofein u Zagrebu zamišljen je kao ugodan radni prostor te galerija, kino, kafić i mjesto za odmor. (jutarnji.hr)\\n2. Kreativna zagrebačka agencija Kofein ovih je dana proširila svoj kadar, angažiranjem Silvije Zidarić kao client service direktorice i Krešimira Lastrića kao art direktora. (novac.jutarnji.hr)',\n",
       " 'tool_name': 'search_company_news',\n",
       " 'raw_input': {'args': ('KOFEIN d.o.o. site:jutarnji.hr',), 'kwargs': {}},\n",
       " 'raw_output': '1. Novi ured poznate domaće agencije Kofein u Zagrebu zamišljen je kao ugodan radni prostor te galerija, kino, kafić i mjesto za odmor. (jutarnji.hr)\\n2. Kreativna zagrebačka agencija Kofein ovih je dana proširila svoj kadar, angažiranjem Silvije Zidarić kao client service direktorice i Krešimira Lastrića kao art direktora. (novac.jutarnji.hr)',\n",
       " 'is_error': False}"
      ]
     },
     "execution_count": 91,
     "metadata": {},
     "output_type": "execute_result"
    }
   ],
   "source": [
    "dict(resp.sources[0])"
   ]
  }
 ],
 "metadata": {
  "kernelspec": {
   "display_name": "Python 3.9.19 ('fw_24')",
   "language": "python",
   "name": "python3"
  },
  "language_info": {
   "codemirror_mode": {
    "name": "ipython",
    "version": 3
   },
   "file_extension": ".py",
   "mimetype": "text/x-python",
   "name": "python",
   "nbconvert_exporter": "python",
   "pygments_lexer": "ipython3",
   "version": "3.9.19"
  },
  "orig_nbformat": 4,
  "vscode": {
   "interpreter": {
    "hash": "002b85b5079f3da3aae4414b1231371c80fc57d2bd742047e69786b7d50bd7d6"
   }
  }
 },
 "nbformat": 4,
 "nbformat_minor": 2
}
