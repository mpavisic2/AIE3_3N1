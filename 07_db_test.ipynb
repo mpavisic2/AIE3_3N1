{
 "cells": [
  {
   "cell_type": "code",
   "execution_count": 2,
   "metadata": {},
   "outputs": [],
   "source": [
    "import pandas as pd\n",
    "from storage.prompt_store.prompts import N3Prompts\n",
    "\n",
    "\n",
    "n3p = N3Prompts()\n",
    "subscriber_level_df_final = pd.read_csv(\"data/synthetic_data_cb_w_oib.csv\")"
   ]
  },
  {
   "cell_type": "code",
   "execution_count": 2,
   "metadata": {},
   "outputs": [],
   "source": [
    "from utils.db_tools import internal_data_tool_360\n",
    "resp = internal_data_tool_360.call(\"57993674442\")"
   ]
  },
  {
   "cell_type": "code",
   "execution_count": 3,
   "metadata": {},
   "outputs": [
    {
     "name": "stdout",
     "output_type": "stream",
     "text": [
      "### Analiza Tarifa\n",
      "\n",
      "| Tarifa | Ukupan broj priključaka | Prosječno prekoračenje | Prosječna upotreba glasa | Prosječna upotreba roaminga | Mješavina tarifa |\n",
      "|--------|-------------------------|------------------------|--------------------------|-----------------------------|------------------|\n",
      "| L      | 3                       | 27.14%                 | 1388.0                   | 427.33                      | 25.00%           |\n",
      "| M      | 4                       | 13.19%                 | 2816.0                   | 200.0                       | 33.33%           |\n",
      "| S      | 1                       | 24.00%                 | 973.0                    | 219.0                       | 8.33%            |\n",
      "| XL     | 4                       | 4.23%                  | 1849.0                   | 181.25                      | 33.33%           |\n",
      "\n",
      "### Trendovi Prihoda i Priključaka\n",
      "\n",
      "U 2024. godini, prosječni prihod po korisniku (ARPA) iznosi 46.28, uz negativan trend od 4%. Ukupni prihod za 2024. godinu procijenjen je na 6664.2, također s negativnim trendom od 4%. U bazi se nalazi 12 priključaka, od kojih 3 ističu ugovor za 3 mjeseca, a 1 za 6 mjeseci.\n"
     ]
    }
   ],
   "source": [
    "print(resp.content)"
   ]
  }
 ],
 "metadata": {
  "kernelspec": {
   "display_name": "Python 3.9.19 ('fw_24')",
   "language": "python",
   "name": "python3"
  },
  "language_info": {
   "codemirror_mode": {
    "name": "ipython",
    "version": 3
   },
   "file_extension": ".py",
   "mimetype": "text/x-python",
   "name": "python",
   "nbconvert_exporter": "python",
   "pygments_lexer": "ipython3",
   "version": "3.9.19"
  },
  "orig_nbformat": 4,
  "vscode": {
   "interpreter": {
    "hash": "002b85b5079f3da3aae4414b1231371c80fc57d2bd742047e69786b7d50bd7d6"
   }
  }
 },
 "nbformat": 4,
 "nbformat_minor": 2
}
